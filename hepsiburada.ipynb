{
  "nbformat": 4,
  "nbformat_minor": 0,
  "metadata": {
    "kernelspec": {
      "display_name": "Python 3",
      "language": "python",
      "name": "python3"
    },
    "language_info": {
      "codemirror_mode": {
        "name": "ipython",
        "version": 3
      },
      "file_extension": ".py",
      "mimetype": "text/x-python",
      "name": "python",
      "nbconvert_exporter": "python",
      "pygments_lexer": "ipython3",
      "version": "3.6.5"
    },
    "colab": {
      "name": "hepsiburada.ipynb",
      "provenance": [],
      "collapsed_sections": [],
      "toc_visible": true
    }
  },
  "cells": [
    {
      "cell_type": "code",
      "metadata": {
        "id": "e3KGOsqZ8CMy",
        "colab_type": "code",
        "colab": {}
      },
      "source": [
        "import pandas as pd\n",
        "import numpy as np\n",
        "import re\n",
        "import nltk"
      ],
      "execution_count": 0,
      "outputs": []
    },
    {
      "cell_type": "markdown",
      "metadata": {
        "id": "imHuFzq6ih_7",
        "colab_type": "text"
      },
      "source": [
        "# Gathering Data"
      ]
    },
    {
      "cell_type": "code",
      "metadata": {
        "id": "woLnHE308CNI",
        "colab_type": "code",
        "colab": {}
      },
      "source": [
        "#reading merged2 csv file which contains different csv files about different products\n",
        "#for turkish characters using windows-1254 encoder\n",
        "data = pd.read_csv(\"merged2.csv\", delimiter=\";\", engine='python', nrows=240000, encoding=\"windows-1254\")"
      ],
      "execution_count": 0,
      "outputs": []
    },
    {
      "cell_type": "code",
      "metadata": {
        "id": "v_U-JY0ajei8",
        "colab_type": "code",
        "colab": {
          "base_uri": "https://localhost:8080/",
          "height": 563
        },
        "outputId": "ea03a666-44bd-4d55-9114-2258eb6ed744"
      },
      "source": [
        "data"
      ],
      "execution_count": 3,
      "outputs": [
        {
          "output_type": "execute_result",
          "data": {
            "text/html": [
              "<div>\n",
              "<style scoped>\n",
              "    .dataframe tbody tr th:only-of-type {\n",
              "        vertical-align: middle;\n",
              "    }\n",
              "\n",
              "    .dataframe tbody tr th {\n",
              "        vertical-align: top;\n",
              "    }\n",
              "\n",
              "    .dataframe thead th {\n",
              "        text-align: right;\n",
              "    }\n",
              "</style>\n",
              "<table border=\"1\" class=\"dataframe\">\n",
              "  <thead>\n",
              "    <tr style=\"text-align: right;\">\n",
              "      <th></th>\n",
              "      <th>Column1</th>\n",
              "      <th>Column2</th>\n",
              "      <th>Column3</th>\n",
              "      <th>Column4</th>\n",
              "      <th>Column5</th>\n",
              "      <th>Column6</th>\n",
              "      <th>Column7</th>\n",
              "      <th>Column8</th>\n",
              "      <th>Column9</th>\n",
              "      <th>Column10</th>\n",
              "      <th>Column11</th>\n",
              "      <th>Column12</th>\n",
              "    </tr>\n",
              "  </thead>\n",
              "  <tbody>\n",
              "    <tr>\n",
              "      <th>0</th>\n",
              "      <td>urls</td>\n",
              "      <td>author</td>\n",
              "      <td>city</td>\n",
              "      <td>ratings</td>\n",
              "      <td>title</td>\n",
              "      <td>comment</td>\n",
              "      <td>product</td>\n",
              "      <td>main_city</td>\n",
              "      <td>part_city</td>\n",
              "      <td>authorName</td>\n",
              "      <td>age</td>\n",
              "      <td>tolower_comment</td>\n",
              "    </tr>\n",
              "    <tr>\n",
              "      <th>1</th>\n",
              "      <td>https://www.hepsiburada.com/johnsons-baby-john...</td>\n",
              "      <td>S***** Ş***** (27)</td>\n",
              "      <td>MERAM - Konya</td>\n",
              "      <td>width: 60%</td>\n",
              "      <td>ürünün kokusu</td>\n",
              "      <td>fiyatı iyi ama üzgünüm kokusu güzel değil</td>\n",
              "      <td>AILE5148</td>\n",
              "      <td>Konya</td>\n",
              "      <td>MERAM</td>\n",
              "      <td>S*****</td>\n",
              "      <td>27</td>\n",
              "      <td>fiyatı iyi ama üzgünüm kokusu güzel değil</td>\n",
              "    </tr>\n",
              "    <tr>\n",
              "      <th>2</th>\n",
              "      <td>https://www.hepsiburada.com/johnsons-baby-john...</td>\n",
              "      <td>tülay üzülmez</td>\n",
              "      <td>HALİLİYE - Şanlıurfa</td>\n",
              "      <td>width: 100%</td>\n",
              "      <td>Güzel</td>\n",
              "      <td>Kısa sürede teslim edildi teşekkürler</td>\n",
              "      <td>AILE5148</td>\n",
              "      <td>Şanlıurfa</td>\n",
              "      <td>HALİLİYE</td>\n",
              "      <td>tülay</td>\n",
              "      <td>NaN</td>\n",
              "      <td>kısa sürede teslim edildi teşekkürler</td>\n",
              "    </tr>\n",
              "    <tr>\n",
              "      <th>3</th>\n",
              "      <td>https://www.hepsiburada.com/johnsons-baby-john...</td>\n",
              "      <td>BANU ALTUNBAY</td>\n",
              "      <td>ERGENE - Tekirdağ</td>\n",
              "      <td>width: 100%</td>\n",
              "      <td>Beş Yıldız</td>\n",
              "      <td>kargo hızlı, ürün iyi ...teşekkürler</td>\n",
              "      <td>AILE5148</td>\n",
              "      <td>Tekirdağ</td>\n",
              "      <td>ERGENE</td>\n",
              "      <td>BANU</td>\n",
              "      <td>NaN</td>\n",
              "      <td>kargo hızlı, ürün iyi ...teşekkürler</td>\n",
              "    </tr>\n",
              "    <tr>\n",
              "      <th>4</th>\n",
              "      <td>https://www.hepsiburada.com/johnsons-baby-john...</td>\n",
              "      <td>Ergin Dinç (35)</td>\n",
              "      <td>BESNİ - Adıyaman</td>\n",
              "      <td>width: 80%</td>\n",
              "      <td>kargo hızlı</td>\n",
              "      <td>kargo hızlı ürünler kutu saglam ezilmemiş.anca...</td>\n",
              "      <td>AILE5148</td>\n",
              "      <td>Adıyaman</td>\n",
              "      <td>BESNİ</td>\n",
              "      <td>Ergin</td>\n",
              "      <td>35</td>\n",
              "      <td>kargo hızlı ürünler kutu saglam ezilmemiş.anca...</td>\n",
              "    </tr>\n",
              "    <tr>\n",
              "      <th>...</th>\n",
              "      <td>...</td>\n",
              "      <td>...</td>\n",
              "      <td>...</td>\n",
              "      <td>...</td>\n",
              "      <td>...</td>\n",
              "      <td>...</td>\n",
              "      <td>...</td>\n",
              "      <td>...</td>\n",
              "      <td>...</td>\n",
              "      <td>...</td>\n",
              "      <td>...</td>\n",
              "      <td>...</td>\n",
              "    </tr>\n",
              "    <tr>\n",
              "      <th>214505</th>\n",
              "      <td>https://www.hepsiburada.com/komili-islak-havlu...</td>\n",
              "      <td>B***** T***** (37)</td>\n",
              "      <td>ÜMRANİYE - İstanbul</td>\n",
              "      <td>width: 100%</td>\n",
              "      <td>Gayet başarılı</td>\n",
              "      <td>Gayet başarılı ürün ve hızlı kargo.</td>\n",
              "      <td>ZYULKER0781002</td>\n",
              "      <td>İstanbul</td>\n",
              "      <td>ÜMRANİYE</td>\n",
              "      <td>B*****</td>\n",
              "      <td>37</td>\n",
              "      <td>gayet başarılı ürün ve hızlı kargo.</td>\n",
              "    </tr>\n",
              "    <tr>\n",
              "      <th>214506</th>\n",
              "      <td>https://www.hepsiburada.com/komili-islak-havlu...</td>\n",
              "      <td>İ***** Ç*****</td>\n",
              "      <td>İZMİT - Kocaeli</td>\n",
              "      <td>width: 100%</td>\n",
              "      <td>Beş Yıldız</td>\n",
              "      <td>Çok hızlı sevkiyat, uygun özel ambalaj</td>\n",
              "      <td>ZYULKER0781002</td>\n",
              "      <td>Kocaeli</td>\n",
              "      <td>İZMİT</td>\n",
              "      <td>İ*****</td>\n",
              "      <td>NaN</td>\n",
              "      <td>çok hızlı sevkiyat, uygun özel ambalaj</td>\n",
              "    </tr>\n",
              "    <tr>\n",
              "      <th>214507</th>\n",
              "      <td>https://www.hepsiburada.com/komili-islak-havlu...</td>\n",
              "      <td>F***** D*****</td>\n",
              "      <td>ÇANKAYA - Ankara</td>\n",
              "      <td>width: 100%</td>\n",
              "      <td>Beş Yıldız</td>\n",
              "      <td>kaliteli</td>\n",
              "      <td>ZYULKER0781002</td>\n",
              "      <td>Ankara</td>\n",
              "      <td>ÇANKAYA</td>\n",
              "      <td>F*****</td>\n",
              "      <td>NaN</td>\n",
              "      <td>kaliteli</td>\n",
              "    </tr>\n",
              "    <tr>\n",
              "      <th>214508</th>\n",
              "      <td>https://www.hepsiburada.com/komili-islak-havlu...</td>\n",
              "      <td>A***** D***** (51)</td>\n",
              "      <td>MERKEZ - Eskişehir</td>\n",
              "      <td>width: 60%</td>\n",
              "      <td>Üç Yıldız</td>\n",
              "      <td>doğal bir ürün.kullanışlı</td>\n",
              "      <td>ZYULKER0781002</td>\n",
              "      <td>Eskişehir</td>\n",
              "      <td>MERKEZ</td>\n",
              "      <td>A*****</td>\n",
              "      <td>51</td>\n",
              "      <td>doğal bir ürün.kullanışlı</td>\n",
              "    </tr>\n",
              "    <tr>\n",
              "      <th>214509</th>\n",
              "      <td>\u001a</td>\n",
              "      <td>NaN</td>\n",
              "      <td>NaN</td>\n",
              "      <td>NaN</td>\n",
              "      <td>NaN</td>\n",
              "      <td>NaN</td>\n",
              "      <td>NaN</td>\n",
              "      <td>NaN</td>\n",
              "      <td>NaN</td>\n",
              "      <td>NaN</td>\n",
              "      <td>NaN</td>\n",
              "      <td>NaN</td>\n",
              "    </tr>\n",
              "  </tbody>\n",
              "</table>\n",
              "<p>214510 rows × 12 columns</p>\n",
              "</div>"
            ],
            "text/plain": [
              "                                                  Column1  ...                                           Column12\n",
              "0                                                    urls  ...                                    tolower_comment\n",
              "1       https://www.hepsiburada.com/johnsons-baby-john...  ...          fiyatı iyi ama üzgünüm kokusu güzel değil\n",
              "2       https://www.hepsiburada.com/johnsons-baby-john...  ...             kısa sürede teslim edildi teşekkürler \n",
              "3       https://www.hepsiburada.com/johnsons-baby-john...  ...               kargo hızlı, ürün iyi ...teşekkürler\n",
              "4       https://www.hepsiburada.com/johnsons-baby-john...  ...  kargo hızlı ürünler kutu saglam ezilmemiş.anca...\n",
              "...                                                   ...  ...                                                ...\n",
              "214505  https://www.hepsiburada.com/komili-islak-havlu...  ...                gayet başarılı ürün ve hızlı kargo.\n",
              "214506  https://www.hepsiburada.com/komili-islak-havlu...  ...            çok hızlı sevkiyat, uygun özel ambalaj \n",
              "214507  https://www.hepsiburada.com/komili-islak-havlu...  ...                                          kaliteli \n",
              "214508  https://www.hepsiburada.com/komili-islak-havlu...  ...                          doğal bir ürün.kullanışlı\n",
              "214509                                                  \u001a  ...                                                NaN\n",
              "\n",
              "[214510 rows x 12 columns]"
            ]
          },
          "metadata": {
            "tags": []
          },
          "execution_count": 3
        }
      ]
    },
    {
      "cell_type": "code",
      "metadata": {
        "id": "xOSBiGsg8CNb",
        "colab_type": "code",
        "colab": {}
      },
      "source": [
        "#to rename column as urls,author,city..\n",
        "data.columns = data.loc[0].tolist()"
      ],
      "execution_count": 0,
      "outputs": []
    },
    {
      "cell_type": "code",
      "metadata": {
        "id": "ekf_rCPk8CNo",
        "colab_type": "code",
        "colab": {}
      },
      "source": [
        "#unnecessary now\n",
        "data = data.drop([214509])"
      ],
      "execution_count": 0,
      "outputs": []
    },
    {
      "cell_type": "code",
      "metadata": {
        "id": "2jU_0T7f8CNx",
        "colab_type": "code",
        "colab": {}
      },
      "source": [
        "#delete all rows which contains our header urls, author, city...\n",
        "data.drop(data[data['urls']=='urls'].index, inplace=True)"
      ],
      "execution_count": 0,
      "outputs": []
    },
    {
      "cell_type": "code",
      "metadata": {
        "id": "W6NJBhc98CN9",
        "colab_type": "code",
        "colab": {
          "base_uri": "https://localhost:8080/",
          "height": 293
        },
        "outputId": "bd9f160a-b317-45f1-cc27-d40053b67d39"
      },
      "source": [
        "data.head()"
      ],
      "execution_count": 7,
      "outputs": [
        {
          "output_type": "execute_result",
          "data": {
            "text/html": [
              "<div>\n",
              "<style scoped>\n",
              "    .dataframe tbody tr th:only-of-type {\n",
              "        vertical-align: middle;\n",
              "    }\n",
              "\n",
              "    .dataframe tbody tr th {\n",
              "        vertical-align: top;\n",
              "    }\n",
              "\n",
              "    .dataframe thead th {\n",
              "        text-align: right;\n",
              "    }\n",
              "</style>\n",
              "<table border=\"1\" class=\"dataframe\">\n",
              "  <thead>\n",
              "    <tr style=\"text-align: right;\">\n",
              "      <th></th>\n",
              "      <th>urls</th>\n",
              "      <th>author</th>\n",
              "      <th>city</th>\n",
              "      <th>ratings</th>\n",
              "      <th>title</th>\n",
              "      <th>comment</th>\n",
              "      <th>product</th>\n",
              "      <th>main_city</th>\n",
              "      <th>part_city</th>\n",
              "      <th>authorName</th>\n",
              "      <th>age</th>\n",
              "      <th>tolower_comment</th>\n",
              "    </tr>\n",
              "  </thead>\n",
              "  <tbody>\n",
              "    <tr>\n",
              "      <th>1</th>\n",
              "      <td>https://www.hepsiburada.com/johnsons-baby-john...</td>\n",
              "      <td>S***** Ş***** (27)</td>\n",
              "      <td>MERAM - Konya</td>\n",
              "      <td>width: 60%</td>\n",
              "      <td>ürünün kokusu</td>\n",
              "      <td>fiyatı iyi ama üzgünüm kokusu güzel değil</td>\n",
              "      <td>AILE5148</td>\n",
              "      <td>Konya</td>\n",
              "      <td>MERAM</td>\n",
              "      <td>S*****</td>\n",
              "      <td>27</td>\n",
              "      <td>fiyatı iyi ama üzgünüm kokusu güzel değil</td>\n",
              "    </tr>\n",
              "    <tr>\n",
              "      <th>2</th>\n",
              "      <td>https://www.hepsiburada.com/johnsons-baby-john...</td>\n",
              "      <td>tülay üzülmez</td>\n",
              "      <td>HALİLİYE - Şanlıurfa</td>\n",
              "      <td>width: 100%</td>\n",
              "      <td>Güzel</td>\n",
              "      <td>Kısa sürede teslim edildi teşekkürler</td>\n",
              "      <td>AILE5148</td>\n",
              "      <td>Şanlıurfa</td>\n",
              "      <td>HALİLİYE</td>\n",
              "      <td>tülay</td>\n",
              "      <td>NaN</td>\n",
              "      <td>kısa sürede teslim edildi teşekkürler</td>\n",
              "    </tr>\n",
              "    <tr>\n",
              "      <th>3</th>\n",
              "      <td>https://www.hepsiburada.com/johnsons-baby-john...</td>\n",
              "      <td>BANU ALTUNBAY</td>\n",
              "      <td>ERGENE - Tekirdağ</td>\n",
              "      <td>width: 100%</td>\n",
              "      <td>Beş Yıldız</td>\n",
              "      <td>kargo hızlı, ürün iyi ...teşekkürler</td>\n",
              "      <td>AILE5148</td>\n",
              "      <td>Tekirdağ</td>\n",
              "      <td>ERGENE</td>\n",
              "      <td>BANU</td>\n",
              "      <td>NaN</td>\n",
              "      <td>kargo hızlı, ürün iyi ...teşekkürler</td>\n",
              "    </tr>\n",
              "    <tr>\n",
              "      <th>4</th>\n",
              "      <td>https://www.hepsiburada.com/johnsons-baby-john...</td>\n",
              "      <td>Ergin Dinç (35)</td>\n",
              "      <td>BESNİ - Adıyaman</td>\n",
              "      <td>width: 80%</td>\n",
              "      <td>kargo hızlı</td>\n",
              "      <td>kargo hızlı ürünler kutu saglam ezilmemiş.anca...</td>\n",
              "      <td>AILE5148</td>\n",
              "      <td>Adıyaman</td>\n",
              "      <td>BESNİ</td>\n",
              "      <td>Ergin</td>\n",
              "      <td>35</td>\n",
              "      <td>kargo hızlı ürünler kutu saglam ezilmemiş.anca...</td>\n",
              "    </tr>\n",
              "    <tr>\n",
              "      <th>5</th>\n",
              "      <td>https://www.hepsiburada.com/johnsons-baby-john...</td>\n",
              "      <td>mehmet koçak (37)</td>\n",
              "      <td>KAZAN - Ankara</td>\n",
              "      <td>width: 100%</td>\n",
              "      <td>güzel</td>\n",
              "      <td>tskr ederiz güzel alışveriş oldu...</td>\n",
              "      <td>AILE5148</td>\n",
              "      <td>Ankara</td>\n",
              "      <td>KAZAN</td>\n",
              "      <td>mehmet</td>\n",
              "      <td>37</td>\n",
              "      <td>tskr ederiz güzel alışveriş oldu...</td>\n",
              "    </tr>\n",
              "  </tbody>\n",
              "</table>\n",
              "</div>"
            ],
            "text/plain": [
              "                                                urls  ...                                    tolower_comment\n",
              "1  https://www.hepsiburada.com/johnsons-baby-john...  ...          fiyatı iyi ama üzgünüm kokusu güzel değil\n",
              "2  https://www.hepsiburada.com/johnsons-baby-john...  ...             kısa sürede teslim edildi teşekkürler \n",
              "3  https://www.hepsiburada.com/johnsons-baby-john...  ...               kargo hızlı, ürün iyi ...teşekkürler\n",
              "4  https://www.hepsiburada.com/johnsons-baby-john...  ...  kargo hızlı ürünler kutu saglam ezilmemiş.anca...\n",
              "5  https://www.hepsiburada.com/johnsons-baby-john...  ...                tskr ederiz güzel alışveriş oldu...\n",
              "\n",
              "[5 rows x 12 columns]"
            ]
          },
          "metadata": {
            "tags": []
          },
          "execution_count": 7
        }
      ]
    },
    {
      "cell_type": "markdown",
      "metadata": {
        "id": "2fyPgXvq8COL",
        "colab_type": "text"
      },
      "source": [
        "# Data Cleaning"
      ]
    },
    {
      "cell_type": "code",
      "metadata": {
        "id": "jQ1ke8s78COU",
        "colab_type": "code",
        "colab": {
          "base_uri": "https://localhost:8080/",
          "height": 54
        },
        "outputId": "be6fd952-9e99-46fd-e844-28dc96eaca5c"
      },
      "source": [
        "#removing symbols, stopwords\n",
        "nltk.download('stopwords')\n",
        "replace_with_space = re.compile('[/(){}\\[\\]\\|@,;]')\n",
        "remove_symbols1 = re.compile(\"[^0-9a-z_ğüşıöç .']\")\n",
        "stopwords = nltk.corpus.stopwords.words('turkish')\n",
        "\n",
        "def clean_text(text):\n",
        "    \"\"\"\n",
        "        text: a string\n",
        "        \n",
        "        return: modified initial string\n",
        "    \"\"\"\n",
        "    text = text.lower()\n",
        "    text = replace_with_space.sub(' ', text)\n",
        "    text = remove_symbols1.sub('', text)\n",
        "    text = ' '.join([word for word in text.split() if word not in stopwords])\n",
        "    return text"
      ],
      "execution_count": 8,
      "outputs": [
        {
          "output_type": "stream",
          "text": [
            "[nltk_data] Downloading package stopwords to /root/nltk_data...\n",
            "[nltk_data]   Unzipping corpora/stopwords.zip.\n"
          ],
          "name": "stdout"
        }
      ]
    },
    {
      "cell_type": "code",
      "metadata": {
        "scrolled": true,
        "id": "bp3-Rd9r8COa",
        "colab_type": "code",
        "colab": {
          "base_uri": "https://localhost:8080/",
          "height": 990
        },
        "outputId": "131d24b1-47d3-406c-9d34-54423305d0c8"
      },
      "source": [
        "#stopword list\n",
        "nltk.corpus.stopwords.words('turkish')"
      ],
      "execution_count": 9,
      "outputs": [
        {
          "output_type": "execute_result",
          "data": {
            "text/plain": [
              "['acaba',\n",
              " 'ama',\n",
              " 'aslında',\n",
              " 'az',\n",
              " 'bazı',\n",
              " 'belki',\n",
              " 'biri',\n",
              " 'birkaç',\n",
              " 'birşey',\n",
              " 'biz',\n",
              " 'bu',\n",
              " 'çok',\n",
              " 'çünkü',\n",
              " 'da',\n",
              " 'daha',\n",
              " 'de',\n",
              " 'defa',\n",
              " 'diye',\n",
              " 'eğer',\n",
              " 'en',\n",
              " 'gibi',\n",
              " 'hem',\n",
              " 'hep',\n",
              " 'hepsi',\n",
              " 'her',\n",
              " 'hiç',\n",
              " 'için',\n",
              " 'ile',\n",
              " 'ise',\n",
              " 'kez',\n",
              " 'ki',\n",
              " 'kim',\n",
              " 'mı',\n",
              " 'mu',\n",
              " 'mü',\n",
              " 'nasıl',\n",
              " 'ne',\n",
              " 'neden',\n",
              " 'nerde',\n",
              " 'nerede',\n",
              " 'nereye',\n",
              " 'niçin',\n",
              " 'niye',\n",
              " 'o',\n",
              " 'sanki',\n",
              " 'şey',\n",
              " 'siz',\n",
              " 'şu',\n",
              " 'tüm',\n",
              " 've',\n",
              " 'veya',\n",
              " 'ya',\n",
              " 'yani']"
            ]
          },
          "metadata": {
            "tags": []
          },
          "execution_count": 9
        }
      ]
    },
    {
      "cell_type": "code",
      "metadata": {
        "id": "-vp95KFD8COk",
        "colab_type": "code",
        "colab": {}
      },
      "source": [
        "#cleaning comments\n",
        "data.tolower_comment = [clean_text(comment) for comment in data.tolower_comment]"
      ],
      "execution_count": 0,
      "outputs": []
    },
    {
      "cell_type": "code",
      "metadata": {
        "id": "eP7k-9s88COu",
        "colab_type": "code",
        "colab": {
          "base_uri": "https://localhost:8080/",
          "height": 237
        },
        "outputId": "ee67726c-fef9-4d21-cbca-deff14b16a7a"
      },
      "source": [
        "data.tolower_comment"
      ],
      "execution_count": 11,
      "outputs": [
        {
          "output_type": "execute_result",
          "data": {
            "text/plain": [
              "1                     fiyatı iyi üzgünüm kokusu güzel değil\n",
              "2                     kısa sürede teslim edildi teşekkürler\n",
              "3                       kargo hızlı ürün iyi ...teşekkürler\n",
              "4         kargo hızlı ürünler kutu saglam ezilmemiş.anca...\n",
              "5                       tskr ederiz güzel alışveriş oldu...\n",
              "                                ...                        \n",
              "214504    uygun fiyata aldım. kalitesi cidden kötü. boyu...\n",
              "214505                     gayet başarılı ürün hızlı kargo.\n",
              "214506                    hızlı sevkiyat uygun özel ambalaj\n",
              "214507                                             kaliteli\n",
              "214508                            doğal bir ürün.kullanışlı\n",
              "Name: tolower_comment, Length: 213661, dtype: object"
            ]
          },
          "metadata": {
            "tags": []
          },
          "execution_count": 11
        }
      ]
    },
    {
      "cell_type": "code",
      "metadata": {
        "id": "SOpOW49h8CPN",
        "colab_type": "code",
        "colab": {}
      },
      "source": [
        "#to convert percentage ratings to numeric values such as %40 -> 2 -> 1\n",
        "#after converting numeric values between 1-5\n",
        "#since it is hard and unnecessary to classsify sentiment from 1 to 5,\n",
        "#we will classify into 3 segments\n",
        "#1 will represent negative, 2 Agnostic, 3 Positive\n",
        "\n",
        "def rating_cleaner(rating):\n",
        "    int_rating = int(\"\".join(re.findall(r'\\d', rating)))//20\n",
        "    if int_rating==1 or int_rating==2:\n",
        "        int_rating=1\n",
        "    elif int_rating==4 or int_rating==5:\n",
        "        int_rating=3\n",
        "    else:\n",
        "        int_rating=2\n",
        "        \n",
        "    return int_rating"
      ],
      "execution_count": 0,
      "outputs": []
    },
    {
      "cell_type": "code",
      "metadata": {
        "id": "ctzTSvd78CPT",
        "colab_type": "code",
        "colab": {}
      },
      "source": [
        "new_ratings = []\n",
        "for rating in data[\"ratings\"]:\n",
        "    new_ratings.append(rating_cleaner(rating))"
      ],
      "execution_count": 0,
      "outputs": []
    },
    {
      "cell_type": "code",
      "metadata": {
        "id": "PRAwUMAy8CPd",
        "colab_type": "code",
        "colab": {}
      },
      "source": [
        "data['ratings'] = new_ratings"
      ],
      "execution_count": 0,
      "outputs": []
    },
    {
      "cell_type": "markdown",
      "metadata": {
        "id": "A3ibEUdWDHCj",
        "colab_type": "text"
      },
      "source": [
        "# Data Exploring"
      ]
    },
    {
      "cell_type": "code",
      "metadata": {
        "id": "Hc1Wu16Y-WSq",
        "colab_type": "code",
        "colab": {
          "base_uri": "https://localhost:8080/",
          "height": 300
        },
        "outputId": "662b0973-ed6e-45c7-b751-e3e68c4c5b07"
      },
      "source": [
        "data.describe()"
      ],
      "execution_count": 18,
      "outputs": [
        {
          "output_type": "execute_result",
          "data": {
            "text/html": [
              "<div>\n",
              "<style scoped>\n",
              "    .dataframe tbody tr th:only-of-type {\n",
              "        vertical-align: middle;\n",
              "    }\n",
              "\n",
              "    .dataframe tbody tr th {\n",
              "        vertical-align: top;\n",
              "    }\n",
              "\n",
              "    .dataframe thead th {\n",
              "        text-align: right;\n",
              "    }\n",
              "</style>\n",
              "<table border=\"1\" class=\"dataframe\">\n",
              "  <thead>\n",
              "    <tr style=\"text-align: right;\">\n",
              "      <th></th>\n",
              "      <th>ratings</th>\n",
              "    </tr>\n",
              "  </thead>\n",
              "  <tbody>\n",
              "    <tr>\n",
              "      <th>count</th>\n",
              "      <td>213661.000000</td>\n",
              "    </tr>\n",
              "    <tr>\n",
              "      <th>mean</th>\n",
              "      <td>2.916246</td>\n",
              "    </tr>\n",
              "    <tr>\n",
              "      <th>std</th>\n",
              "      <td>0.367615</td>\n",
              "    </tr>\n",
              "    <tr>\n",
              "      <th>min</th>\n",
              "      <td>1.000000</td>\n",
              "    </tr>\n",
              "    <tr>\n",
              "      <th>25%</th>\n",
              "      <td>3.000000</td>\n",
              "    </tr>\n",
              "    <tr>\n",
              "      <th>50%</th>\n",
              "      <td>3.000000</td>\n",
              "    </tr>\n",
              "    <tr>\n",
              "      <th>75%</th>\n",
              "      <td>3.000000</td>\n",
              "    </tr>\n",
              "    <tr>\n",
              "      <th>max</th>\n",
              "      <td>3.000000</td>\n",
              "    </tr>\n",
              "  </tbody>\n",
              "</table>\n",
              "</div>"
            ],
            "text/plain": [
              "             ratings\n",
              "count  213661.000000\n",
              "mean        2.916246\n",
              "std         0.367615\n",
              "min         1.000000\n",
              "25%         3.000000\n",
              "50%         3.000000\n",
              "75%         3.000000\n",
              "max         3.000000"
            ]
          },
          "metadata": {
            "tags": []
          },
          "execution_count": 18
        }
      ]
    },
    {
      "cell_type": "code",
      "metadata": {
        "id": "ePOYklnY-YGu",
        "colab_type": "code",
        "colab": {
          "base_uri": "https://localhost:8080/",
          "height": 72
        },
        "outputId": "ec666e88-6777-4133-9657-fe595c0ad04d"
      },
      "source": [
        "data.columns"
      ],
      "execution_count": 16,
      "outputs": [
        {
          "output_type": "execute_result",
          "data": {
            "text/plain": [
              "Index(['urls', 'author', 'city', 'ratings', 'title', 'comment', 'product',\n",
              "       'main_city', 'part_city', 'authorName', 'age', 'tolower_comment'],\n",
              "      dtype='object')"
            ]
          },
          "metadata": {
            "tags": []
          },
          "execution_count": 16
        }
      ]
    },
    {
      "cell_type": "code",
      "metadata": {
        "id": "vPPe3lDA-YCu",
        "colab_type": "code",
        "colab": {
          "base_uri": "https://localhost:8080/",
          "height": 366
        },
        "outputId": "a767dfe2-e1ae-4fc8-ae6a-db9ac37c80a4"
      },
      "source": [
        "data.info()"
      ],
      "execution_count": 19,
      "outputs": [
        {
          "output_type": "stream",
          "text": [
            "<class 'pandas.core.frame.DataFrame'>\n",
            "Int64Index: 213661 entries, 1 to 214508\n",
            "Data columns (total 12 columns):\n",
            " #   Column           Non-Null Count   Dtype \n",
            "---  ------           --------------   ----- \n",
            " 0   urls             213661 non-null  object\n",
            " 1   author           213661 non-null  object\n",
            " 2   city             55658 non-null   object\n",
            " 3   ratings          213661 non-null  int64 \n",
            " 4   title            213661 non-null  object\n",
            " 5   comment          213661 non-null  object\n",
            " 6   product          213661 non-null  object\n",
            " 7   main_city        55658 non-null   object\n",
            " 8   part_city        55658 non-null   object\n",
            " 9   authorName       213659 non-null  object\n",
            " 10  age              28866 non-null   object\n",
            " 11  tolower_comment  213661 non-null  object\n",
            "dtypes: int64(1), object(11)\n",
            "memory usage: 21.2+ MB\n"
          ],
          "name": "stdout"
        }
      ]
    },
    {
      "cell_type": "code",
      "metadata": {
        "id": "kiJjjKlZDQh4",
        "colab_type": "code",
        "colab": {}
      },
      "source": [
        "#most used words\n",
        "from collections import Counter\n",
        "\n",
        "most_vocab = Counter()\n",
        "for comment in data.tolower_comment:\n",
        "    for word in comment.split(' '):\n",
        "        if word not in stopwords:\n",
        "            most_vocab[word] += 1"
      ],
      "execution_count": 0,
      "outputs": []
    },
    {
      "cell_type": "code",
      "metadata": {
        "id": "XVbNA0QtDQvD",
        "colab_type": "code",
        "colab": {
          "base_uri": "https://localhost:8080/",
          "height": 201
        },
        "outputId": "3e02a2e3-1018-47ee-f77a-30fa4346265e"
      },
      "source": [
        "most_vocab.most_common(10)"
      ],
      "execution_count": 22,
      "outputs": [
        {
          "output_type": "execute_result",
          "data": {
            "text/plain": [
              "[('prima', 114538),\n",
              " ('bir', 61818),\n",
              " ('bez', 39344),\n",
              " ('teşekkürler', 29371),\n",
              " ('rahat', 27165),\n",
              " ('iyi', 25414),\n",
              " ('tavsiye', 25413),\n",
              " ('bebeğim', 23394),\n",
              " ('ürün', 23295),\n",
              " ('cok', 22131)]"
            ]
          },
          "metadata": {
            "tags": []
          },
          "execution_count": 22
        }
      ]
    },
    {
      "cell_type": "markdown",
      "metadata": {
        "id": "Xp5mc9yo8CPu",
        "colab_type": "text"
      },
      "source": [
        "# Sentiment Analysis with Classical ML methods"
      ]
    },
    {
      "cell_type": "code",
      "metadata": {
        "id": "_2ByGmey8CPw",
        "colab_type": "code",
        "colab": {
          "base_uri": "https://localhost:8080/",
          "height": 35
        },
        "outputId": "cfb710dd-57d2-4fac-8588-a52c17cfa6a1"
      },
      "source": [
        "len(data[data['ratings']==1])"
      ],
      "execution_count": 38,
      "outputs": [
        {
          "output_type": "execute_result",
          "data": {
            "text/plain": [
              "6239"
            ]
          },
          "metadata": {
            "tags": []
          },
          "execution_count": 38
        }
      ]
    },
    {
      "cell_type": "code",
      "metadata": {
        "id": "doDlaj0UBAXT",
        "colab_type": "code",
        "colab": {
          "base_uri": "https://localhost:8080/",
          "height": 35
        },
        "outputId": "702e61ff-fb45-40cc-e8b7-a5aff5302bc6"
      },
      "source": [
        "len(data[data['ratings']==2])"
      ],
      "execution_count": 36,
      "outputs": [
        {
          "output_type": "execute_result",
          "data": {
            "text/plain": [
              "5417"
            ]
          },
          "metadata": {
            "tags": []
          },
          "execution_count": 36
        }
      ]
    },
    {
      "cell_type": "code",
      "metadata": {
        "id": "iLJ7sXGWBAjk",
        "colab_type": "code",
        "colab": {
          "base_uri": "https://localhost:8080/",
          "height": 35
        },
        "outputId": "162ed626-ba4e-45ae-97cb-efa6b39e5472"
      },
      "source": [
        "len(data[data['ratings']==3])"
      ],
      "execution_count": 37,
      "outputs": [
        {
          "output_type": "execute_result",
          "data": {
            "text/plain": [
              "202005"
            ]
          },
          "metadata": {
            "tags": []
          },
          "execution_count": 37
        }
      ]
    },
    {
      "cell_type": "markdown",
      "metadata": {
        "id": "VaN77inKBHhD",
        "colab_type": "text"
      },
      "source": [
        "It is clear to see that most of the comments are positive since rating 3 represents the positive reviews.\n",
        "Fewest rating is Agnostic (2). we want our data equally distributed. So we will take 5000 reviews from each class."
      ]
    },
    {
      "cell_type": "code",
      "metadata": {
        "id": "0y1M6NZZ8CP1",
        "colab_type": "code",
        "colab": {}
      },
      "source": [
        "#taking up to 5000 rows from each rating between 1-3\n",
        "uniform_data = data.groupby('ratings').head(5000)"
      ],
      "execution_count": 0,
      "outputs": []
    },
    {
      "cell_type": "code",
      "metadata": {
        "id": "C0EcFNzCJVOs",
        "colab_type": "code",
        "colab": {
          "base_uri": "https://localhost:8080/",
          "height": 35
        },
        "outputId": "69621b9a-406f-44a2-dbf2-e5b7ad2a7beb"
      },
      "source": [
        "len(uniform_data)"
      ],
      "execution_count": 40,
      "outputs": [
        {
          "output_type": "execute_result",
          "data": {
            "text/plain": [
              "15000"
            ]
          },
          "metadata": {
            "tags": []
          },
          "execution_count": 40
        }
      ]
    },
    {
      "cell_type": "markdown",
      "metadata": {
        "id": "sl2h2aNL8CP7",
        "colab_type": "text"
      },
      "source": [
        "Count Vectorizer"
      ]
    },
    {
      "cell_type": "code",
      "metadata": {
        "id": "MKHDIR7w8CP9",
        "colab_type": "code",
        "colab": {}
      },
      "source": [
        "#It is an option but count vectorizer will not be used in next steps\n",
        "from sklearn.feature_extraction.text import CountVectorizer\n",
        "vectorizer=CountVectorizer()\n",
        "X=vectorizer.fit_transform(uniform_data['tolower_comment'].tolist()).toarray()\n",
        "y=uniform_data.iloc[: ,3].values"
      ],
      "execution_count": 0,
      "outputs": []
    },
    {
      "cell_type": "markdown",
      "metadata": {
        "id": "Y28-hAYO8CQE",
        "colab_type": "text"
      },
      "source": [
        "Tf-idf"
      ]
    },
    {
      "cell_type": "code",
      "metadata": {
        "id": "vAjj-mew8CQH",
        "colab_type": "code",
        "colab": {}
      },
      "source": [
        "from sklearn.feature_extraction.text import TfidfVectorizer\n",
        "vectorizer = TfidfVectorizer(norm = None, smooth_idf=True)\n",
        "X=vectorizer.fit_transform(uniform_data['tolower_comment'].tolist()).toarray()\n",
        "y=uniform_data.iloc[: ,3].values"
      ],
      "execution_count": 0,
      "outputs": []
    },
    {
      "cell_type": "code",
      "metadata": {
        "id": "ZvR0d1bR8CQL",
        "colab_type": "code",
        "colab": {}
      },
      "source": [
        "#splitting train/test (8:2)\n",
        "from sklearn.model_selection import train_test_split\n",
        "X_train, X_test, y_train, y_test = train_test_split(X, y, test_size = 0.20, random_state = 0)"
      ],
      "execution_count": 0,
      "outputs": []
    },
    {
      "cell_type": "markdown",
      "metadata": {
        "id": "IWt0d4UCCsem",
        "colab_type": "text"
      },
      "source": [
        "**GaussianNB**"
      ]
    },
    {
      "cell_type": "code",
      "metadata": {
        "id": "51tW-xWH8CQQ",
        "colab_type": "code",
        "colab": {
          "base_uri": "https://localhost:8080/",
          "height": 35
        },
        "outputId": "6249f935-f3d5-4f07-f4e8-a87ca50684eb"
      },
      "source": [
        "from sklearn.naive_bayes import GaussianNB\n",
        "classifier = GaussianNB()\n",
        "classifier.fit(X_train, y_train)"
      ],
      "execution_count": 70,
      "outputs": [
        {
          "output_type": "execute_result",
          "data": {
            "text/plain": [
              "GaussianNB(priors=None, var_smoothing=1e-09)"
            ]
          },
          "metadata": {
            "tags": []
          },
          "execution_count": 70
        }
      ]
    },
    {
      "cell_type": "code",
      "metadata": {
        "id": "LOfqt2P78CQW",
        "colab_type": "code",
        "colab": {}
      },
      "source": [
        "y_pred=classifier.predict(X_test)"
      ],
      "execution_count": 0,
      "outputs": []
    },
    {
      "cell_type": "code",
      "metadata": {
        "id": "lxD8ivyt8CQb",
        "colab_type": "code",
        "colab": {
          "base_uri": "https://localhost:8080/",
          "height": 72
        },
        "outputId": "7c03f6d3-0d63-4716-8085-a8619d20d0f7"
      },
      "source": [
        "from sklearn.metrics import confusion_matrix, accuracy_score\n",
        "cm = confusion_matrix(y_test, y_pred)\n",
        "cm"
      ],
      "execution_count": 72,
      "outputs": [
        {
          "output_type": "execute_result",
          "data": {
            "text/plain": [
              "array([[817,  89, 111],\n",
              "       [ 33, 712, 263],\n",
              "       [ 58,  58, 859]])"
            ]
          },
          "metadata": {
            "tags": []
          },
          "execution_count": 72
        }
      ]
    },
    {
      "cell_type": "code",
      "metadata": {
        "id": "qTovBVVD8CQi",
        "colab_type": "code",
        "colab": {
          "base_uri": "https://localhost:8080/",
          "height": 109
        },
        "outputId": "e3805b50-0641-4d22-88d1-bdf6938b6d9d"
      },
      "source": [
        "print(\"Vectorizer : Tf-Idf\\n\"\n",
        "      \"Test/Train size : 0.20\\n\"\n",
        "      \"Spellchecker usage : No\\n\"\n",
        "      \"Data Amount : 15,000\\n\"\n",
        "      \"Accuracy score of GaussianNB :\", accuracy_score(y_test, y_pred))"
      ],
      "execution_count": 73,
      "outputs": [
        {
          "output_type": "stream",
          "text": [
            "Vectorizer : Tf-Idf\n",
            "Test/Train size : 0.20\n",
            "Spellchecker usage : No\n",
            "Data Amount : 15,000\n",
            "Accuracy score of GaussianNB : 0.796\n"
          ],
          "name": "stdout"
        }
      ]
    },
    {
      "cell_type": "code",
      "metadata": {
        "id": "By4OD6iX8CQ-",
        "colab_type": "code",
        "colab": {}
      },
      "source": [
        "def test(classifier, vectorizer):\n",
        "  comment = [\"ürün çok sızdırıyor. berbat\",\n",
        "           \"harika. tavsiye ederim\",\n",
        "           \"kesinlikle tavsiye etmiyorum\",\n",
        "           \"kullanışlı değil.\",\n",
        "           \"çocuğumu pişik yaptı\",\n",
        "           \"satıcı ilgisiz\",\n",
        "           \"başka yerden alın buradan almayın\",\n",
        "           \"eksik ve yanlış teslimat\",\n",
        "           \"teşekkürler\",\n",
        "           \"hızlı kargo\",\n",
        "           \"hiç yumuşak değil\",\n",
        "           \"iyi\",\n",
        "           \"kullanışlı\",\n",
        "           \"satıcı çok ilgili\",\n",
        "           \"bir daha asla almam çok kötü\",\n",
        "           \"tavsiye etmiyorum\",\n",
        "           \"çok kötü kokuyor\",\n",
        "           \"süper ürün\",\n",
        "           \"lastikleri ortalama kalitede\", \"muhteşem\", \"harikulade\"]\n",
        "  sample = vectorizer.transform(comment).toarray()\n",
        "  result = classifier.predict(sample)\n",
        "  result\n",
        "\n",
        "  for i in range(len(sample)):\n",
        "      print(comment[i]+': '+ str(result[i]))"
      ],
      "execution_count": 0,
      "outputs": []
    },
    {
      "cell_type": "code",
      "metadata": {
        "id": "D2KNGSZvKbvl",
        "colab_type": "code",
        "colab": {
          "base_uri": "https://localhost:8080/",
          "height": 403
        },
        "outputId": "2cfaf0d9-d110-4e92-ea8c-17a6fa0aa9ff"
      },
      "source": [
        "#testing with example sentences\n",
        "test(classifier, vectorizer)"
      ],
      "execution_count": 83,
      "outputs": [
        {
          "output_type": "stream",
          "text": [
            "ürün çok sızdırıyor. berbat: 3\n",
            "harika. tavsiye ederim: 3\n",
            "kesinlikle tavsiye etmiyorum: 3\n",
            "kullanışlı değil.: 3\n",
            "çocuğumu pişik yaptı: 2\n",
            "satıcı ilgisiz: 2\n",
            "başka yerden alın buradan almayın: 2\n",
            "eksik ve yanlış teslimat: 3\n",
            "teşekkürler: 3\n",
            "hızlı kargo: 3\n",
            "hiç yumuşak değil: 3\n",
            "iyi: 3\n",
            "kullanışlı: 3\n",
            "satıcı çok ilgili: 3\n",
            "bir daha asla almam çok kötü: 3\n",
            "tavsiye etmiyorum: 3\n",
            "çok kötü kokuyor: 3\n",
            "süper ürün: 3\n",
            "lastikleri ortalama kalitede: 2\n",
            "muhteşem: 3\n",
            "harikulade: 3\n"
          ],
          "name": "stdout"
        }
      ]
    },
    {
      "cell_type": "markdown",
      "metadata": {
        "id": "ApphIRMnC75f",
        "colab_type": "text"
      },
      "source": [
        "Accuracy is 0.79 but as it can be seen in test reviews it is not successful."
      ]
    },
    {
      "cell_type": "markdown",
      "metadata": {
        "id": "6ShW7TUE8CQm",
        "colab_type": "text"
      },
      "source": [
        "**MLPClassfier**"
      ]
    },
    {
      "cell_type": "code",
      "metadata": {
        "id": "lMcxp8ji8CQn",
        "colab_type": "code",
        "colab": {
          "base_uri": "https://localhost:8080/",
          "height": 146
        },
        "outputId": "7a324c9e-4718-4fe7-ad99-cef33c4a78bf"
      },
      "source": [
        "from sklearn.neural_network import MLPClassifier\n",
        "\n",
        "clf = MLPClassifier(solver='lbfgs', alpha=1e-5, hidden_layer_sizes=(5, 2), random_state=1)\n",
        "clf.fit(X_train, y_train)"
      ],
      "execution_count": 55,
      "outputs": [
        {
          "output_type": "stream",
          "text": [
            "/usr/local/lib/python3.6/dist-packages/sklearn/neural_network/_multilayer_perceptron.py:470: ConvergenceWarning: lbfgs failed to converge (status=1):\n",
            "STOP: TOTAL NO. of ITERATIONS REACHED LIMIT.\n",
            "\n",
            "Increase the number of iterations (max_iter) or scale the data as shown in:\n",
            "    https://scikit-learn.org/stable/modules/preprocessing.html\n",
            "  self.n_iter_ = _check_optimize_result(\"lbfgs\", opt_res, self.max_iter)\n"
          ],
          "name": "stderr"
        },
        {
          "output_type": "execute_result",
          "data": {
            "text/plain": [
              "\"\\nMLPClassifier(alpha=1e-05, hidden_layer_sizes=(5, 2), random_state=1,\\n              solver='lbfgs')\\n              \""
            ]
          },
          "metadata": {
            "tags": []
          },
          "execution_count": 55
        }
      ]
    },
    {
      "cell_type": "code",
      "metadata": {
        "id": "e8Yz9Z-V8CQt",
        "colab_type": "code",
        "colab": {}
      },
      "source": [
        "y_pred = clf.predict(X_test)"
      ],
      "execution_count": 0,
      "outputs": []
    },
    {
      "cell_type": "code",
      "metadata": {
        "id": "uWm1CliR8CQy",
        "colab_type": "code",
        "colab": {
          "base_uri": "https://localhost:8080/",
          "height": 72
        },
        "outputId": "46a3d468-3589-40c6-dfa8-99d9001769a5"
      },
      "source": [
        "from sklearn.metrics import confusion_matrix, accuracy_score\n",
        "cm = confusion_matrix(y_test, y_pred)\n",
        "cm"
      ],
      "execution_count": 57,
      "outputs": [
        {
          "output_type": "execute_result",
          "data": {
            "text/plain": [
              "array([[951,  43,  23],\n",
              "       [ 59, 831, 118],\n",
              "       [ 31, 105, 839]])"
            ]
          },
          "metadata": {
            "tags": []
          },
          "execution_count": 57
        }
      ]
    },
    {
      "cell_type": "code",
      "metadata": {
        "id": "LloXTikD8CQ4",
        "colab_type": "code",
        "colab": {
          "base_uri": "https://localhost:8080/",
          "height": 109
        },
        "outputId": "7abc4511-befe-4f41-89e2-81ee74547025"
      },
      "source": [
        "print(\"Vectorizer : Tf-Idf\\n\"\n",
        "      \"Test/Train size : 0.20\\n\"\n",
        "      \"Spellchecker usage : No\\n\"\n",
        "      \"Data Amount : 15,000\\n\"\n",
        "      \"Accuracy score of MLPClassifier :\", accuracy_score(y_test, y_pred))"
      ],
      "execution_count": 69,
      "outputs": [
        {
          "output_type": "stream",
          "text": [
            "Vectorizer : Tf-Idf\n",
            "Test/Train size : 0.20\n",
            "Spellchecker usage : No\n",
            "Data Amount : 15,000\n",
            "Accuracy score of MLPClassifier : 0.8736666666666667\n"
          ],
          "name": "stdout"
        }
      ]
    },
    {
      "cell_type": "code",
      "metadata": {
        "id": "ryRCqx-eKn0Y",
        "colab_type": "code",
        "colab": {
          "base_uri": "https://localhost:8080/",
          "height": 403
        },
        "outputId": "7e430505-1c53-455c-ed9b-479a376a0914"
      },
      "source": [
        "#testing with example sentences\n",
        "test(clf, vectorizer)"
      ],
      "execution_count": 82,
      "outputs": [
        {
          "output_type": "stream",
          "text": [
            "ürün çok sızdırıyor. berbat: 1\n",
            "harika. tavsiye ederim: 3\n",
            "kesinlikle tavsiye etmiyorum: 1\n",
            "kullanışlı değil.: 2\n",
            "çocuğumu pişik yaptı: 1\n",
            "satıcı ilgisiz: 2\n",
            "başka yerden alın buradan almayın: 2\n",
            "eksik ve yanlış teslimat: 1\n",
            "teşekkürler: 3\n",
            "hızlı kargo: 3\n",
            "hiç yumuşak değil: 1\n",
            "iyi: 3\n",
            "kullanışlı: 3\n",
            "satıcı çok ilgili: 3\n",
            "bir daha asla almam çok kötü: 1\n",
            "tavsiye etmiyorum: 1\n",
            "çok kötü kokuyor: 1\n",
            "süper ürün: 3\n",
            "lastikleri ortalama kalitede: 3\n",
            "muhteşem: 3\n",
            "harikulade: 3\n"
          ],
          "name": "stdout"
        }
      ]
    },
    {
      "cell_type": "markdown",
      "metadata": {
        "id": "BiKtP5g2ECGd",
        "colab_type": "text"
      },
      "source": [
        "with MLPClassifier we reached higher accuracy than GaussianNB and it seems also successful in test review"
      ]
    },
    {
      "cell_type": "markdown",
      "metadata": {
        "id": "K-4HkWG8Ei5U",
        "colab_type": "text"
      },
      "source": [
        "**Comparing Logistic Regression, RandomForestClassifier and GaussianNB with Voting Classifier**"
      ]
    },
    {
      "cell_type": "code",
      "metadata": {
        "id": "LzUBNysIOZgJ",
        "colab_type": "code",
        "colab": {}
      },
      "source": [
        "from sklearn.model_selection import cross_val_score\n",
        "from sklearn.linear_model import LogisticRegression\n",
        "from sklearn.ensemble import RandomForestClassifier\n",
        "from sklearn.ensemble import VotingClassifier"
      ],
      "execution_count": 0,
      "outputs": []
    },
    {
      "cell_type": "code",
      "metadata": {
        "id": "N2K_vhdZOZdP",
        "colab_type": "code",
        "colab": {
          "base_uri": "https://localhost:8080/",
          "height": 1000
        },
        "outputId": "ab610219-b2a4-4fef-fede-5e6ac7c45e3a"
      },
      "source": [
        "clf1 = LogisticRegression(random_state=1)\n",
        "clf2 = RandomForestClassifier(n_estimators=50, random_state=1)\n",
        "clf3 = GaussianNB()\n",
        "\n",
        "eclf = VotingClassifier(estimators=[('lr', clf1), ('rf', clf2), ('gnb', clf3)],voting='hard')\n",
        "\n",
        "for clf, label in zip([clf1, clf2, clf3, eclf], ['Logistic Regression', 'Random Forest', 'naive Bayes', 'Ensemble']):\n",
        "  scores = cross_val_score(clf, X, y, scoring='accuracy', cv=5)\n",
        "  print(\"Accuracy: %0.2f (+/- %0.2f) [%s]\" % (scores.mean(), scores.std(), label))"
      ],
      "execution_count": 85,
      "outputs": [
        {
          "output_type": "stream",
          "text": [
            "/usr/local/lib/python3.6/dist-packages/sklearn/linear_model/_logistic.py:940: ConvergenceWarning: lbfgs failed to converge (status=1):\n",
            "STOP: TOTAL NO. of ITERATIONS REACHED LIMIT.\n",
            "\n",
            "Increase the number of iterations (max_iter) or scale the data as shown in:\n",
            "    https://scikit-learn.org/stable/modules/preprocessing.html\n",
            "Please also refer to the documentation for alternative solver options:\n",
            "    https://scikit-learn.org/stable/modules/linear_model.html#logistic-regression\n",
            "  extra_warning_msg=_LOGISTIC_SOLVER_CONVERGENCE_MSG)\n",
            "/usr/local/lib/python3.6/dist-packages/sklearn/linear_model/_logistic.py:940: ConvergenceWarning: lbfgs failed to converge (status=1):\n",
            "STOP: TOTAL NO. of ITERATIONS REACHED LIMIT.\n",
            "\n",
            "Increase the number of iterations (max_iter) or scale the data as shown in:\n",
            "    https://scikit-learn.org/stable/modules/preprocessing.html\n",
            "Please also refer to the documentation for alternative solver options:\n",
            "    https://scikit-learn.org/stable/modules/linear_model.html#logistic-regression\n",
            "  extra_warning_msg=_LOGISTIC_SOLVER_CONVERGENCE_MSG)\n",
            "/usr/local/lib/python3.6/dist-packages/sklearn/linear_model/_logistic.py:940: ConvergenceWarning: lbfgs failed to converge (status=1):\n",
            "STOP: TOTAL NO. of ITERATIONS REACHED LIMIT.\n",
            "\n",
            "Increase the number of iterations (max_iter) or scale the data as shown in:\n",
            "    https://scikit-learn.org/stable/modules/preprocessing.html\n",
            "Please also refer to the documentation for alternative solver options:\n",
            "    https://scikit-learn.org/stable/modules/linear_model.html#logistic-regression\n",
            "  extra_warning_msg=_LOGISTIC_SOLVER_CONVERGENCE_MSG)\n",
            "/usr/local/lib/python3.6/dist-packages/sklearn/linear_model/_logistic.py:940: ConvergenceWarning: lbfgs failed to converge (status=1):\n",
            "STOP: TOTAL NO. of ITERATIONS REACHED LIMIT.\n",
            "\n",
            "Increase the number of iterations (max_iter) or scale the data as shown in:\n",
            "    https://scikit-learn.org/stable/modules/preprocessing.html\n",
            "Please also refer to the documentation for alternative solver options:\n",
            "    https://scikit-learn.org/stable/modules/linear_model.html#logistic-regression\n",
            "  extra_warning_msg=_LOGISTIC_SOLVER_CONVERGENCE_MSG)\n",
            "/usr/local/lib/python3.6/dist-packages/sklearn/linear_model/_logistic.py:940: ConvergenceWarning: lbfgs failed to converge (status=1):\n",
            "STOP: TOTAL NO. of ITERATIONS REACHED LIMIT.\n",
            "\n",
            "Increase the number of iterations (max_iter) or scale the data as shown in:\n",
            "    https://scikit-learn.org/stable/modules/preprocessing.html\n",
            "Please also refer to the documentation for alternative solver options:\n",
            "    https://scikit-learn.org/stable/modules/linear_model.html#logistic-regression\n",
            "  extra_warning_msg=_LOGISTIC_SOLVER_CONVERGENCE_MSG)\n"
          ],
          "name": "stderr"
        },
        {
          "output_type": "stream",
          "text": [
            "Accuracy: 0.79 (+/- 0.04) [Logistic Regression]\n",
            "Accuracy: 0.82 (+/- 0.03) [Random Forest]\n",
            "Accuracy: 0.72 (+/- 0.05) [naive Bayes]\n"
          ],
          "name": "stdout"
        },
        {
          "output_type": "stream",
          "text": [
            "/usr/local/lib/python3.6/dist-packages/sklearn/linear_model/_logistic.py:940: ConvergenceWarning: lbfgs failed to converge (status=1):\n",
            "STOP: TOTAL NO. of ITERATIONS REACHED LIMIT.\n",
            "\n",
            "Increase the number of iterations (max_iter) or scale the data as shown in:\n",
            "    https://scikit-learn.org/stable/modules/preprocessing.html\n",
            "Please also refer to the documentation for alternative solver options:\n",
            "    https://scikit-learn.org/stable/modules/linear_model.html#logistic-regression\n",
            "  extra_warning_msg=_LOGISTIC_SOLVER_CONVERGENCE_MSG)\n",
            "/usr/local/lib/python3.6/dist-packages/sklearn/linear_model/_logistic.py:940: ConvergenceWarning: lbfgs failed to converge (status=1):\n",
            "STOP: TOTAL NO. of ITERATIONS REACHED LIMIT.\n",
            "\n",
            "Increase the number of iterations (max_iter) or scale the data as shown in:\n",
            "    https://scikit-learn.org/stable/modules/preprocessing.html\n",
            "Please also refer to the documentation for alternative solver options:\n",
            "    https://scikit-learn.org/stable/modules/linear_model.html#logistic-regression\n",
            "  extra_warning_msg=_LOGISTIC_SOLVER_CONVERGENCE_MSG)\n",
            "/usr/local/lib/python3.6/dist-packages/sklearn/linear_model/_logistic.py:940: ConvergenceWarning: lbfgs failed to converge (status=1):\n",
            "STOP: TOTAL NO. of ITERATIONS REACHED LIMIT.\n",
            "\n",
            "Increase the number of iterations (max_iter) or scale the data as shown in:\n",
            "    https://scikit-learn.org/stable/modules/preprocessing.html\n",
            "Please also refer to the documentation for alternative solver options:\n",
            "    https://scikit-learn.org/stable/modules/linear_model.html#logistic-regression\n",
            "  extra_warning_msg=_LOGISTIC_SOLVER_CONVERGENCE_MSG)\n",
            "/usr/local/lib/python3.6/dist-packages/sklearn/linear_model/_logistic.py:940: ConvergenceWarning: lbfgs failed to converge (status=1):\n",
            "STOP: TOTAL NO. of ITERATIONS REACHED LIMIT.\n",
            "\n",
            "Increase the number of iterations (max_iter) or scale the data as shown in:\n",
            "    https://scikit-learn.org/stable/modules/preprocessing.html\n",
            "Please also refer to the documentation for alternative solver options:\n",
            "    https://scikit-learn.org/stable/modules/linear_model.html#logistic-regression\n",
            "  extra_warning_msg=_LOGISTIC_SOLVER_CONVERGENCE_MSG)\n",
            "/usr/local/lib/python3.6/dist-packages/sklearn/linear_model/_logistic.py:940: ConvergenceWarning: lbfgs failed to converge (status=1):\n",
            "STOP: TOTAL NO. of ITERATIONS REACHED LIMIT.\n",
            "\n",
            "Increase the number of iterations (max_iter) or scale the data as shown in:\n",
            "    https://scikit-learn.org/stable/modules/preprocessing.html\n",
            "Please also refer to the documentation for alternative solver options:\n",
            "    https://scikit-learn.org/stable/modules/linear_model.html#logistic-regression\n",
            "  extra_warning_msg=_LOGISTIC_SOLVER_CONVERGENCE_MSG)\n"
          ],
          "name": "stderr"
        },
        {
          "output_type": "stream",
          "text": [
            "Accuracy: 0.81 (+/- 0.03) [Ensemble]\n"
          ],
          "name": "stdout"
        }
      ]
    },
    {
      "cell_type": "code",
      "metadata": {
        "id": "hIK5MrX9VtrO",
        "colab_type": "code",
        "colab": {}
      },
      "source": [
        "'''\n",
        "Accuracy Results:\n",
        "Accuracy: 0.79 (+/- 0.04) [Logistic Regression]\n",
        "Accuracy: 0.82 (+/- 0.03) [Random Forest]\n",
        "Accuracy: 0.72 (+/- 0.05) [naive Bayes]\n",
        "'''"
      ],
      "execution_count": 0,
      "outputs": []
    },
    {
      "cell_type": "code",
      "metadata": {
        "id": "r63VD19cOZZw",
        "colab_type": "code",
        "colab": {
          "base_uri": "https://localhost:8080/",
          "height": 403
        },
        "outputId": "ff65b802-b077-46c8-cf45-7a79de056e0d"
      },
      "source": [
        "#testing random forest classifier which has 0.82 accuracy\n",
        "clf2.fit(X_train, y_train)\n",
        "test(clf2, vectorizer)"
      ],
      "execution_count": 87,
      "outputs": [
        {
          "output_type": "stream",
          "text": [
            "ürün çok sızdırıyor. berbat: 1\n",
            "harika. tavsiye ederim: 3\n",
            "kesinlikle tavsiye etmiyorum: 1\n",
            "kullanışlı değil.: 1\n",
            "çocuğumu pişik yaptı: 1\n",
            "satıcı ilgisiz: 3\n",
            "başka yerden alın buradan almayın: 1\n",
            "eksik ve yanlış teslimat: 1\n",
            "teşekkürler: 3\n",
            "hızlı kargo: 3\n",
            "hiç yumuşak değil: 1\n",
            "iyi: 3\n",
            "kullanışlı: 3\n",
            "satıcı çok ilgili: 3\n",
            "bir daha asla almam çok kötü: 1\n",
            "tavsiye etmiyorum: 1\n",
            "çok kötü kokuyor: 1\n",
            "süper ürün: 3\n",
            "lastikleri ortalama kalitede: 3\n",
            "muhteşem: 3\n",
            "harikulade: 3\n"
          ],
          "name": "stdout"
        }
      ]
    },
    {
      "cell_type": "markdown",
      "metadata": {
        "id": "ZTF8FRGaFU1B",
        "colab_type": "text"
      },
      "source": [
        "**SVM**"
      ]
    },
    {
      "cell_type": "code",
      "metadata": {
        "id": "YMurOwSyWl9u",
        "colab_type": "code",
        "colab": {
          "base_uri": "https://localhost:8080/",
          "height": 90
        },
        "outputId": "38944c41-7d11-4ecb-d76f-c8317020df55"
      },
      "source": [
        "from sklearn import svm\n",
        "clf = svm.SVC()\n",
        "clf.fit(X_train, y_train)"
      ],
      "execution_count": 20,
      "outputs": [
        {
          "output_type": "execute_result",
          "data": {
            "text/plain": [
              "SVC(C=1.0, break_ties=False, cache_size=200, class_weight=None, coef0=0.0,\n",
              "    decision_function_shape='ovr', degree=3, gamma='scale', kernel='rbf',\n",
              "    max_iter=-1, probability=False, random_state=None, shrinking=True,\n",
              "    tol=0.001, verbose=False)"
            ]
          },
          "metadata": {
            "tags": []
          },
          "execution_count": 20
        }
      ]
    },
    {
      "cell_type": "code",
      "metadata": {
        "id": "h_hBxcqm-kY7",
        "colab_type": "code",
        "colab": {}
      },
      "source": [
        "y_pred = clf.predict(X_test)"
      ],
      "execution_count": 0,
      "outputs": []
    },
    {
      "cell_type": "code",
      "metadata": {
        "id": "xNXUUILr-ZSD",
        "colab_type": "code",
        "colab": {
          "base_uri": "https://localhost:8080/",
          "height": 72
        },
        "outputId": "60e1c653-4120-4aa6-faa5-8303b567ac84"
      },
      "source": [
        "from sklearn.metrics import confusion_matrix, accuracy_score\n",
        "cm = confusion_matrix(y_test, y_pred)\n",
        "cm"
      ],
      "execution_count": 25,
      "outputs": [
        {
          "output_type": "execute_result",
          "data": {
            "text/plain": [
              "array([[957,  21,  39],\n",
              "       [ 56, 800, 152],\n",
              "       [ 47,  39, 889]])"
            ]
          },
          "metadata": {
            "tags": []
          },
          "execution_count": 25
        }
      ]
    },
    {
      "cell_type": "code",
      "metadata": {
        "id": "3D7-r1v5svBp",
        "colab_type": "code",
        "colab": {
          "base_uri": "https://localhost:8080/",
          "height": 109
        },
        "outputId": "f617bc6c-f7f5-4455-f4e2-f779cc175753"
      },
      "source": [
        "print(\"Vectorizer : Tf-Idf\\n\"\n",
        "      \"Test/Train size : 0.20\\n\"\n",
        "      \"Spellchecker usage : No\\n\"\n",
        "      \"Data Amount : 15,000\\n\"\n",
        "      \"Accuracy score of SVM :\", accuracy_score(y_test, y_pred))"
      ],
      "execution_count": 28,
      "outputs": [
        {
          "output_type": "stream",
          "text": [
            "Vectorizer : Tf-Idf\n",
            "Test/Train size : 0.20\n",
            "Spellchecker usage : No\n",
            "Data Amount : 15,000\n",
            "Accuracy score of SVM : 0.882\n"
          ],
          "name": "stdout"
        }
      ]
    },
    {
      "cell_type": "markdown",
      "metadata": {
        "id": "qvSKMsRlFlsg",
        "colab_type": "text"
      },
      "source": [
        "So far we reached highest accuracy with SVM"
      ]
    },
    {
      "cell_type": "markdown",
      "metadata": {
        "id": "Nm7iMaCQgRn1",
        "colab_type": "text"
      },
      "source": [
        "# Spell Check"
      ]
    },
    {
      "cell_type": "markdown",
      "metadata": {
        "id": "wLPGJlkdFtI3",
        "colab_type": "text"
      },
      "source": [
        "Since this data is taken from hepsiburada.com the comment part is little dirty. This is because comments are not checked by any moderator. There might be many misspelled words.\n",
        "Therefore we will apply turkishnlp library to check spelling and compare results."
      ]
    },
    {
      "cell_type": "code",
      "metadata": {
        "id": "-EI-Zbpe8CRv",
        "colab_type": "code",
        "colab": {
          "base_uri": "https://localhost:8080/",
          "height": 182
        },
        "outputId": "52e6851a-13b8-49bd-ddbc-d96af6644d23"
      },
      "source": [
        "!pip install turkishnlp"
      ],
      "execution_count": 13,
      "outputs": [
        {
          "output_type": "stream",
          "text": [
            "Collecting turkishnlp\n",
            "  Downloading https://files.pythonhosted.org/packages/9d/05/84e26ea98e5818ba430d6905c4640a526f7a3e59a64d010c42e80a889890/turkishnlp-0.0.61.tar.gz\n",
            "Building wheels for collected packages: turkishnlp\n",
            "  Building wheel for turkishnlp (setup.py) ... \u001b[?25l\u001b[?25hdone\n",
            "  Created wheel for turkishnlp: filename=turkishnlp-0.0.61-cp36-none-any.whl size=7557 sha256=bbbd4a27aa6a3cd4a7a468eb2f66d9d6e1105624f095a11e878532a9a5bda1a6\n",
            "  Stored in directory: /root/.cache/pip/wheels/06/11/95/9c04635b9b6cb20e8036e26a6cadaa86b32521a85155b6f1ca\n",
            "Successfully built turkishnlp\n",
            "Installing collected packages: turkishnlp\n",
            "Successfully installed turkishnlp-0.0.61\n"
          ],
          "name": "stdout"
        }
      ]
    },
    {
      "cell_type": "code",
      "metadata": {
        "id": "TIXPOhAi8CRz",
        "colab_type": "code",
        "colab": {}
      },
      "source": [
        "import turkishnlp"
      ],
      "execution_count": 0,
      "outputs": []
    },
    {
      "cell_type": "code",
      "metadata": {
        "id": "FI3oZJ0Q8CR3",
        "colab_type": "code",
        "colab": {}
      },
      "source": [
        "from turkishnlp import detector\n",
        "obj = detector.TurkishNLP()"
      ],
      "execution_count": 0,
      "outputs": []
    },
    {
      "cell_type": "code",
      "metadata": {
        "id": "mUIfynsJATAo",
        "colab_type": "code",
        "colab": {
          "base_uri": "https://localhost:8080/",
          "height": 35
        },
        "outputId": "5bf983e8-5b87-426b-fe51-c8fb5c41bbfe"
      },
      "source": [
        "obj.download()"
      ],
      "execution_count": 31,
      "outputs": [
        {
          "output_type": "stream",
          "text": [
            "Download is successful\n"
          ],
          "name": "stdout"
        }
      ]
    },
    {
      "cell_type": "code",
      "metadata": {
        "id": "kp4PUqw_AW7B",
        "colab_type": "code",
        "colab": {}
      },
      "source": [
        "obj.create_word_set()"
      ],
      "execution_count": 0,
      "outputs": []
    },
    {
      "cell_type": "code",
      "metadata": {
        "id": "7BIdxYnZAmFi",
        "colab_type": "code",
        "colab": {
          "base_uri": "https://localhost:8080/",
          "height": 127
        },
        "outputId": "b2b17763-228c-4a33-a950-b1ef7df21777"
      },
      "source": [
        "#spellcheck for every word in comments\n",
        "uniform_data['corrected_comment'] = [\" \".join(obj.auto_correct(obj.list_words(comment))) for comment in uniform_data['tolower_comment']]"
      ],
      "execution_count": 41,
      "outputs": [
        {
          "output_type": "stream",
          "text": [
            "/usr/local/lib/python3.6/dist-packages/ipykernel_launcher.py:1: SettingWithCopyWarning: \n",
            "A value is trying to be set on a copy of a slice from a DataFrame.\n",
            "Try using .loc[row_indexer,col_indexer] = value instead\n",
            "\n",
            "See the caveats in the documentation: https://pandas.pydata.org/pandas-docs/stable/user_guide/indexing.html#returning-a-view-versus-a-copy\n",
            "  \"\"\"Entry point for launching an IPython kernel.\n"
          ],
          "name": "stderr"
        }
      ]
    },
    {
      "cell_type": "code",
      "metadata": {
        "id": "MVd1mhyvJrxc",
        "colab_type": "code",
        "colab": {
          "base_uri": "https://localhost:8080/",
          "height": 788
        },
        "outputId": "85c41fa1-56fc-435c-a7b7-7445523d74aa"
      },
      "source": [
        "uniform_data"
      ],
      "execution_count": 42,
      "outputs": [
        {
          "output_type": "execute_result",
          "data": {
            "text/html": [
              "<div>\n",
              "<style scoped>\n",
              "    .dataframe tbody tr th:only-of-type {\n",
              "        vertical-align: middle;\n",
              "    }\n",
              "\n",
              "    .dataframe tbody tr th {\n",
              "        vertical-align: top;\n",
              "    }\n",
              "\n",
              "    .dataframe thead th {\n",
              "        text-align: right;\n",
              "    }\n",
              "</style>\n",
              "<table border=\"1\" class=\"dataframe\">\n",
              "  <thead>\n",
              "    <tr style=\"text-align: right;\">\n",
              "      <th></th>\n",
              "      <th>urls</th>\n",
              "      <th>author</th>\n",
              "      <th>city</th>\n",
              "      <th>ratings</th>\n",
              "      <th>title</th>\n",
              "      <th>comment</th>\n",
              "      <th>product</th>\n",
              "      <th>main_city</th>\n",
              "      <th>part_city</th>\n",
              "      <th>authorName</th>\n",
              "      <th>age</th>\n",
              "      <th>tolower_comment</th>\n",
              "      <th>corrected_comment</th>\n",
              "    </tr>\n",
              "  </thead>\n",
              "  <tbody>\n",
              "    <tr>\n",
              "      <th>1</th>\n",
              "      <td>https://www.hepsiburada.com/johnsons-baby-john...</td>\n",
              "      <td>S***** Ş***** (27)</td>\n",
              "      <td>MERAM - Konya</td>\n",
              "      <td>2</td>\n",
              "      <td>ürünün kokusu</td>\n",
              "      <td>fiyatı iyi ama üzgünüm kokusu güzel değil</td>\n",
              "      <td>AILE5148</td>\n",
              "      <td>Konya</td>\n",
              "      <td>MERAM</td>\n",
              "      <td>S*****</td>\n",
              "      <td>27</td>\n",
              "      <td>fiyatı iyi üzgünüm kokusu güzel değil</td>\n",
              "      <td>fiyatı iyi üzgünüm kokusu güzel değil</td>\n",
              "    </tr>\n",
              "    <tr>\n",
              "      <th>2</th>\n",
              "      <td>https://www.hepsiburada.com/johnsons-baby-john...</td>\n",
              "      <td>tülay üzülmez</td>\n",
              "      <td>HALİLİYE - Şanlıurfa</td>\n",
              "      <td>3</td>\n",
              "      <td>Güzel</td>\n",
              "      <td>Kısa sürede teslim edildi teşekkürler</td>\n",
              "      <td>AILE5148</td>\n",
              "      <td>Şanlıurfa</td>\n",
              "      <td>HALİLİYE</td>\n",
              "      <td>tülay</td>\n",
              "      <td>NaN</td>\n",
              "      <td>kısa sürede teslim edildi teşekkürler</td>\n",
              "      <td>kısa sürede teslim edildi teşekkürler</td>\n",
              "    </tr>\n",
              "    <tr>\n",
              "      <th>3</th>\n",
              "      <td>https://www.hepsiburada.com/johnsons-baby-john...</td>\n",
              "      <td>BANU ALTUNBAY</td>\n",
              "      <td>ERGENE - Tekirdağ</td>\n",
              "      <td>3</td>\n",
              "      <td>Beş Yıldız</td>\n",
              "      <td>kargo hızlı, ürün iyi ...teşekkürler</td>\n",
              "      <td>AILE5148</td>\n",
              "      <td>Tekirdağ</td>\n",
              "      <td>ERGENE</td>\n",
              "      <td>BANU</td>\n",
              "      <td>NaN</td>\n",
              "      <td>kargo hızlı ürün iyi ...teşekkürler</td>\n",
              "      <td>kargo hızlı ürün iyi teşekkürler</td>\n",
              "    </tr>\n",
              "    <tr>\n",
              "      <th>4</th>\n",
              "      <td>https://www.hepsiburada.com/johnsons-baby-john...</td>\n",
              "      <td>Ergin Dinç (35)</td>\n",
              "      <td>BESNİ - Adıyaman</td>\n",
              "      <td>3</td>\n",
              "      <td>kargo hızlı</td>\n",
              "      <td>kargo hızlı ürünler kutu saglam ezilmemiş.anca...</td>\n",
              "      <td>AILE5148</td>\n",
              "      <td>Adıyaman</td>\n",
              "      <td>BESNİ</td>\n",
              "      <td>Ergin</td>\n",
              "      <td>35</td>\n",
              "      <td>kargo hızlı ürünler kutu saglam ezilmemiş.anca...</td>\n",
              "      <td>kargo hızlı ürünler kutu saglam ezilmemiş anca...</td>\n",
              "    </tr>\n",
              "    <tr>\n",
              "      <th>5</th>\n",
              "      <td>https://www.hepsiburada.com/johnsons-baby-john...</td>\n",
              "      <td>mehmet koçak (37)</td>\n",
              "      <td>KAZAN - Ankara</td>\n",
              "      <td>3</td>\n",
              "      <td>güzel</td>\n",
              "      <td>tskr ederiz güzel alışveriş oldu...</td>\n",
              "      <td>AILE5148</td>\n",
              "      <td>Ankara</td>\n",
              "      <td>KAZAN</td>\n",
              "      <td>mehmet</td>\n",
              "      <td>37</td>\n",
              "      <td>tskr ederiz güzel alışveriş oldu...</td>\n",
              "      <td>tsk ederiz güzel alışveriş oldu</td>\n",
              "    </tr>\n",
              "    <tr>\n",
              "      <th>...</th>\n",
              "      <td>...</td>\n",
              "      <td>...</td>\n",
              "      <td>...</td>\n",
              "      <td>...</td>\n",
              "      <td>...</td>\n",
              "      <td>...</td>\n",
              "      <td>...</td>\n",
              "      <td>...</td>\n",
              "      <td>...</td>\n",
              "      <td>...</td>\n",
              "      <td>...</td>\n",
              "      <td>...</td>\n",
              "      <td>...</td>\n",
              "    </tr>\n",
              "    <tr>\n",
              "      <th>202223</th>\n",
              "      <td>https://www.hepsiburada.com/prima-kulot-bebek-...</td>\n",
              "      <td>Deniz Cingöz</td>\n",
              "      <td>NaN</td>\n",
              "      <td>2</td>\n",
              "      <td>Üç Yıldız</td>\n",
              "      <td>Ürünün teslimi ile ilgili her şey çok iyiydi a...</td>\n",
              "      <td>ZYPYON74023</td>\n",
              "      <td>NaN</td>\n",
              "      <td>NaN</td>\n",
              "      <td>Deniz</td>\n",
              "      <td>NaN</td>\n",
              "      <td>ürünün teslimi ilgili iyiydi ancak ürün 611 ki...</td>\n",
              "      <td>ürünün teslimi ilgili iyiydi ancak ürün kilo o...</td>\n",
              "    </tr>\n",
              "    <tr>\n",
              "      <th>202235</th>\n",
              "      <td>https://www.hepsiburada.com/prima-kulot-bebek-...</td>\n",
              "      <td>Bu yorum Prima.com.tr websitesinden alınmıştır.</td>\n",
              "      <td>NaN</td>\n",
              "      <td>2</td>\n",
              "      <td>Primaaa</td>\n",
              "      <td>Çok iyi bir ürün çok severek kullanıyoruz teşe...</td>\n",
              "      <td>ZYPYON74023</td>\n",
              "      <td>NaN</td>\n",
              "      <td>NaN</td>\n",
              "      <td>Bu</td>\n",
              "      <td>NaN</td>\n",
              "      <td>iyi bir ürün severek kullanıyoruz teşekkürler ...</td>\n",
              "      <td>iyi bir ürün severek kullanıyoruz teşekkürler ...</td>\n",
              "    </tr>\n",
              "    <tr>\n",
              "      <th>202238</th>\n",
              "      <td>https://www.hepsiburada.com/prima-kulot-bebek-...</td>\n",
              "      <td>Bu yorum Prima.com.tr websitesinden alınmıştır.</td>\n",
              "      <td>NaN</td>\n",
              "      <td>2</td>\n",
              "      <td>Primaa</td>\n",
              "      <td>Çok memnun kaldim herkese tavsiyemdir. Çocugum...</td>\n",
              "      <td>ZYPYON74023</td>\n",
              "      <td>NaN</td>\n",
              "      <td>NaN</td>\n",
              "      <td>Bu</td>\n",
              "      <td>NaN</td>\n",
              "      <td>memnun kaldim herkese tavsiyemdir. çocugumda z...</td>\n",
              "      <td>memnun kaldim herkese tavsiyemdir çocuğunda zm...</td>\n",
              "    </tr>\n",
              "    <tr>\n",
              "      <th>202393</th>\n",
              "      <td>https://www.hepsiburada.com/prima-kulot-bebek-...</td>\n",
              "      <td>Bu yorum Prima.com.tr websitesinden alınmıştır.</td>\n",
              "      <td>NaN</td>\n",
              "      <td>2</td>\n",
              "      <td>prima külot bez</td>\n",
              "      <td>Bebekler emeklemeye başladıktan sonra bezlerin...</td>\n",
              "      <td>ZYPYON74023</td>\n",
              "      <td>NaN</td>\n",
              "      <td>NaN</td>\n",
              "      <td>Bu</td>\n",
              "      <td>NaN</td>\n",
              "      <td>bebekler emeklemeye başladıktan sonra bezlerin...</td>\n",
              "      <td>bebekler emeklemeye başladıktan sonra bezlerin...</td>\n",
              "    </tr>\n",
              "    <tr>\n",
              "      <th>202440</th>\n",
              "      <td>https://www.hepsiburada.com/prima-kulot-bebek-...</td>\n",
              "      <td>Bu yorum Prima.com.tr websitesinden alınmıştır.</td>\n",
              "      <td>NaN</td>\n",
              "      <td>2</td>\n",
              "      <td>Zor</td>\n",
              "      <td>Merhaba aktif bebekler için düşünülmüş evet am...</td>\n",
              "      <td>ZYPYON74023</td>\n",
              "      <td>NaN</td>\n",
              "      <td>NaN</td>\n",
              "      <td>Bu</td>\n",
              "      <td>NaN</td>\n",
              "      <td>merhaba aktif bebekler düşünülmüş evet alt deg...</td>\n",
              "      <td>merhaba aktif bebekler düşünülmüş evet alt deg...</td>\n",
              "    </tr>\n",
              "  </tbody>\n",
              "</table>\n",
              "<p>15000 rows × 13 columns</p>\n",
              "</div>"
            ],
            "text/plain": [
              "                                                     urls  ...                                  corrected_comment\n",
              "1       https://www.hepsiburada.com/johnsons-baby-john...  ...              fiyatı iyi üzgünüm kokusu güzel değil\n",
              "2       https://www.hepsiburada.com/johnsons-baby-john...  ...              kısa sürede teslim edildi teşekkürler\n",
              "3       https://www.hepsiburada.com/johnsons-baby-john...  ...                   kargo hızlı ürün iyi teşekkürler\n",
              "4       https://www.hepsiburada.com/johnsons-baby-john...  ...  kargo hızlı ürünler kutu saglam ezilmemiş anca...\n",
              "5       https://www.hepsiburada.com/johnsons-baby-john...  ...                    tsk ederiz güzel alışveriş oldu\n",
              "...                                                   ...  ...                                                ...\n",
              "202223  https://www.hepsiburada.com/prima-kulot-bebek-...  ...  ürünün teslimi ilgili iyiydi ancak ürün kilo o...\n",
              "202235  https://www.hepsiburada.com/prima-kulot-bebek-...  ...  iyi bir ürün severek kullanıyoruz teşekkürler ...\n",
              "202238  https://www.hepsiburada.com/prima-kulot-bebek-...  ...  memnun kaldim herkese tavsiyemdir çocuğunda zm...\n",
              "202393  https://www.hepsiburada.com/prima-kulot-bebek-...  ...  bebekler emeklemeye başladıktan sonra bezlerin...\n",
              "202440  https://www.hepsiburada.com/prima-kulot-bebek-...  ...  merhaba aktif bebekler düşünülmüş evet alt deg...\n",
              "\n",
              "[15000 rows x 13 columns]"
            ]
          },
          "metadata": {
            "tags": []
          },
          "execution_count": 42
        }
      ]
    },
    {
      "cell_type": "code",
      "metadata": {
        "id": "A8jvbrd8J8M5",
        "colab_type": "code",
        "colab": {}
      },
      "source": [
        "from sklearn.feature_extraction.text import TfidfVectorizer\n",
        "vectorizer = TfidfVectorizer(norm = None, smooth_idf=True)\n",
        "X=vectorizer.fit_transform(uniform_data['corrected_comment'].tolist()).toarray()\n",
        "y=uniform_data.iloc[: ,3].values"
      ],
      "execution_count": 0,
      "outputs": []
    },
    {
      "cell_type": "code",
      "metadata": {
        "id": "XK4aoyyPd7Mt",
        "colab_type": "code",
        "colab": {}
      },
      "source": [
        "from sklearn.naive_bayes import GaussianNB\n",
        "classifier = GaussianNB()\n",
        "classifier.fit(X_train, y_train)\n",
        "y_pred=classifier.predict(X_test)"
      ],
      "execution_count": 0,
      "outputs": []
    },
    {
      "cell_type": "code",
      "metadata": {
        "id": "RI_Xr_cjd7Sw",
        "colab_type": "code",
        "colab": {
          "base_uri": "https://localhost:8080/",
          "height": 109
        },
        "outputId": "12796b7b-4af5-41d6-b604-16c931dab258"
      },
      "source": [
        "print(\"Vectorizer : Tf-Idf\\n\"\n",
        "      \"Test/Train size : 0.20\\n\"\n",
        "      \"Spellchecker usage : Yes\\n\"\n",
        "      \"Data Amount : 15,000\\n\"\n",
        "      \"Accuracy score of GaussianNB :\", accuracy_score(y_test, y_pred))"
      ],
      "execution_count": 57,
      "outputs": [
        {
          "output_type": "stream",
          "text": [
            "Vectorizer : Tf-Idf\n",
            "Test/Train size : 0.20\n",
            "Spellchecker usage : Yes\n",
            "Data Amount : 15,000\n",
            "Accuracy score of GaussianNB : 0.7943333333333333\n"
          ],
          "name": "stdout"
        }
      ]
    },
    {
      "cell_type": "code",
      "metadata": {
        "id": "REZ3dLLZd7Z2",
        "colab_type": "code",
        "colab": {}
      },
      "source": [
        "from sklearn.ensemble import RandomForestClassifier\n",
        "clf2 = RandomForestClassifier(n_estimators=50, random_state=1)"
      ],
      "execution_count": 0,
      "outputs": []
    },
    {
      "cell_type": "code",
      "metadata": {
        "id": "bM02VTMUhgAM",
        "colab_type": "code",
        "colab": {}
      },
      "source": [
        "classifier.fit(X_train, y_train)\n",
        "y_pred=classifier.predict(X_test)"
      ],
      "execution_count": 0,
      "outputs": []
    },
    {
      "cell_type": "code",
      "metadata": {
        "id": "uU5xZ-7Qhicj",
        "colab_type": "code",
        "colab": {
          "base_uri": "https://localhost:8080/",
          "height": 109
        },
        "outputId": "005b27a5-7fd9-43ff-e1ed-3689e84dfeae"
      },
      "source": [
        "print(\"Vectorizer : Tf-Idf\\n\"\n",
        "      \"Test/Train size : 0.20\\n\"\n",
        "      \"Spellchecker usage : Yes\\n\"\n",
        "      \"Data Amount : 15,000\\n\"\n",
        "      \"Accuracy score of RandomForestClassifier :\", accuracy_score(y_test, y_pred))"
      ],
      "execution_count": 60,
      "outputs": [
        {
          "output_type": "stream",
          "text": [
            "Vectorizer : Tf-Idf\n",
            "Test/Train size : 0.20\n",
            "Spellchecker usage : Yes\n",
            "Data Amount : 15,000\n",
            "Accuracy score of RandomForestClassifier : 0.7943333333333333\n"
          ],
          "name": "stdout"
        }
      ]
    },
    {
      "cell_type": "markdown",
      "metadata": {
        "id": "X2v2wzCfHH_v",
        "colab_type": "text"
      },
      "source": [
        "We can see that nearly nothing changed. even we can say that we reached less accuracy."
      ]
    },
    {
      "cell_type": "markdown",
      "metadata": {
        "id": "Od3ssliyteD2",
        "colab_type": "text"
      },
      "source": [
        "# Word2Vec + LSTM"
      ]
    },
    {
      "cell_type": "code",
      "metadata": {
        "id": "hqXN8y4Utc-M",
        "colab_type": "code",
        "colab": {}
      },
      "source": [
        "#Word2Vec approach for sentiment analysis\n",
        "from gensim import utils\n",
        "from gensim.models import word2vec"
      ],
      "execution_count": 0,
      "outputs": []
    },
    {
      "cell_type": "code",
      "metadata": {
        "id": "kn_8r6VSVEol",
        "colab_type": "code",
        "colab": {}
      },
      "source": [
        "from sklearn.model_selection import train_test_split\n",
        "X=uniform_data['tolower_comment'].tolist()\n",
        "y=uniform_data.iloc[: ,3].values\n",
        "X_train, X_test, y_train, y_test = train_test_split(X, y, test_size = 0.20, random_state = 0)"
      ],
      "execution_count": 0,
      "outputs": []
    },
    {
      "cell_type": "code",
      "metadata": {
        "id": "Fhs8qAXEgnrG",
        "colab_type": "code",
        "colab": {}
      },
      "source": [
        "n_dim = 300\n",
        "#Initialize model and build vocab\n",
        "model = word2vec.Word2Vec(size=n_dim, min_count=1, window=10, iter=5)\n",
        "model.build_vocab(map(lambda x: x.split(), X_train))"
      ],
      "execution_count": 0,
      "outputs": []
    },
    {
      "cell_type": "code",
      "metadata": {
        "id": "acvnInPUg6d1",
        "colab_type": "code",
        "colab": {
          "base_uri": "https://localhost:8080/",
          "height": 72
        },
        "outputId": "8fdd16b2-6c75-4aca-de91-964b75658699"
      },
      "source": [
        "model.train(map(lambda x: x.split(), X_train), total_examples=model.corpus_count, epochs=model.iter)"
      ],
      "execution_count": 55,
      "outputs": [
        {
          "output_type": "stream",
          "text": [
            "/usr/local/lib/python3.6/dist-packages/ipykernel_launcher.py:1: DeprecationWarning: Call to deprecated `iter` (Attribute will be removed in 4.0.0, use self.epochs instead).\n",
            "  \"\"\"Entry point for launching an IPython kernel.\n"
          ],
          "name": "stderr"
        },
        {
          "output_type": "execute_result",
          "data": {
            "text/plain": [
              "(186983, 200855)"
            ]
          },
          "metadata": {
            "tags": []
          },
          "execution_count": 55
        }
      ]
    },
    {
      "cell_type": "code",
      "metadata": {
        "id": "p8I06l7vFgrJ",
        "colab_type": "code",
        "colab": {}
      },
      "source": [
        "#exploring word and vectors\n",
        "words = list(model.wv.vocab)"
      ],
      "execution_count": 0,
      "outputs": []
    },
    {
      "cell_type": "code",
      "metadata": {
        "id": "0UQitfTEn-d5",
        "colab_type": "code",
        "colab": {
          "base_uri": "https://localhost:8080/",
          "height": 35
        },
        "outputId": "6b9c6a2c-45a1-4623-c458-98bcdd6be6fd"
      },
      "source": [
        "len(words)"
      ],
      "execution_count": 52,
      "outputs": [
        {
          "output_type": "execute_result",
          "data": {
            "text/plain": [
              "16683"
            ]
          },
          "metadata": {
            "tags": []
          },
          "execution_count": 52
        }
      ]
    },
    {
      "cell_type": "code",
      "metadata": {
        "id": "y5ghZlCdFnjO",
        "colab_type": "code",
        "colab": {
          "base_uri": "https://localhost:8080/",
          "height": 1000
        },
        "outputId": "02a18c8b-c0a8-43b0-db51-08b3f7da8c1f"
      },
      "source": [
        "words"
      ],
      "execution_count": 51,
      "outputs": [
        {
          "output_type": "execute_result",
          "data": {
            "text/plain": [
              "['ürün',\n",
              " 'iyi.',\n",
              " 'fiyat',\n",
              " 'güzel',\n",
              " 'fakat',\n",
              " 'ptt',\n",
              " 'kargo',\n",
              " 'tam',\n",
              " 'bir',\n",
              " 'rezalet.',\n",
              " 'ekonomik',\n",
              " 'hızlı',\n",
              " 'gonderim.',\n",
              " 'tesekkurler...',\n",
              " 'beğendim',\n",
              " '5aydir',\n",
              " 'kullanıyorum',\n",
              " 'memnunum',\n",
              " 'kaliteli',\n",
              " 'geldi',\n",
              " 'üstelik',\n",
              " 'beklediğimden',\n",
              " 'teslim',\n",
              " 'edildi',\n",
              " 'teşekkürler...',\n",
              " 'süper',\n",
              " 'teşekkürler',\n",
              " 'hb.',\n",
              " 'oglum',\n",
              " 'suan',\n",
              " '16',\n",
              " 'aylik',\n",
              " 'dogdugundan',\n",
              " 'beri',\n",
              " 'prima',\n",
              " 'kullandik.ama',\n",
              " 'su',\n",
              " 'emici',\n",
              " 'kanal',\n",
              " 'berbat',\n",
              " 'son',\n",
              " '2',\n",
              " 'paket',\n",
              " 'gece',\n",
              " 'cisi',\n",
              " 'mutlaka',\n",
              " 'sizdiriyor.uyku',\n",
              " 'arasi',\n",
              " '4',\n",
              " 'saatte',\n",
              " 'bez',\n",
              " 'degistiriyorm',\n",
              " 'yinede',\n",
              " 'zibin',\n",
              " 'pijama',\n",
              " 'tulum',\n",
              " 'varsa',\n",
              " 'islak.havalar',\n",
              " 'sogudu',\n",
              " 'cocuklar',\n",
              " 'hasta',\n",
              " 'olucak',\n",
              " 'herkes',\n",
              " 'ayni',\n",
              " 'seyden',\n",
              " 'sikayetci.sorun',\n",
              " 'bizdemi',\n",
              " 'dedim',\n",
              " 'gittim',\n",
              " 'komili',\n",
              " 'aldim',\n",
              " 'gecedir',\n",
              " '12',\n",
              " 'saate',\n",
              " 'yakin',\n",
              " 'alntinda',\n",
              " 'hic',\n",
              " 'sizdirma',\n",
              " 'yok',\n",
              " 'demekki',\n",
              " 'sorun',\n",
              " 'sizde',\n",
              " 'yeni',\n",
              " 'biseylere',\n",
              " 'bizce',\n",
              " 'gerek',\n",
              " 'yokmus',\n",
              " 'adet',\n",
              " 'eksiği',\n",
              " 'var',\n",
              " '336',\n",
              " 'yerine',\n",
              " '320',\n",
              " 'gönderiyorlar',\n",
              " 'yanında',\n",
              " 'küçük',\n",
              " 'ıslak',\n",
              " 'mendil',\n",
              " 'ürünü',\n",
              " 'beğendim...',\n",
              " 'molfixle',\n",
              " 'tanisali',\n",
              " 'bütün',\n",
              " 'alışverişimi',\n",
              " 'uygun',\n",
              " 'olduğu',\n",
              " 'hepsiburadadan',\n",
              " 'aliyorum.',\n",
              " 'aldığımız',\n",
              " '240',\n",
              " 'adetten',\n",
              " 'oluşan',\n",
              " '5',\n",
              " 'numara',\n",
              " 'molfix',\n",
              " 'bezler',\n",
              " 'çocuğumun',\n",
              " 'altında',\n",
              " 'mantar',\n",
              " 'oluşumuna',\n",
              " 'sebep',\n",
              " 'oldu.',\n",
              " 'kullandiysam',\n",
              " 'geçirmedi.',\n",
              " 'bezini',\n",
              " 'değiştirip',\n",
              " 'bezden',\n",
              " 'kaynakli',\n",
              " 'olup',\n",
              " 'olmadığını',\n",
              " 'anlamaya',\n",
              " 'çalıştım',\n",
              " 'olduğunu',\n",
              " 'fark',\n",
              " 'ettim.',\n",
              " 'an',\n",
              " 'öylece',\n",
              " 'duruyor',\n",
              " 'cok',\n",
              " 'iyi',\n",
              " 'degıl',\n",
              " 'kokusu',\n",
              " 'felan',\n",
              " 'ılk',\n",
              " 'aldıgımjn',\n",
              " 'vardı',\n",
              " 'ıyı',\n",
              " 'kotu',\n",
              " 'önce',\n",
              " 'yenidoğan',\n",
              " 'kullanmıştım',\n",
              " 'memnun',\n",
              " 'kaldım',\n",
              " 'bebeğim',\n",
              " 'büyüdü',\n",
              " 'aloe',\n",
              " 'veralı',\n",
              " 'aldım',\n",
              " 'umarım',\n",
              " 'güzeldir',\n",
              " 'sipariş',\n",
              " 'zamaninda',\n",
              " 'teşekkür',\n",
              " '16.04.2018',\n",
              " 'ettim',\n",
              " 'gün',\n",
              " '23.04.2018',\n",
              " 'hala',\n",
              " 'hazırlık',\n",
              " 'aşamasında',\n",
              " 'üründe',\n",
              " 'keskin',\n",
              " 'parfüm',\n",
              " 'beğenmedim',\n",
              " 'aldıgım',\n",
              " 'sızdırıyor',\n",
              " 'kesınlıkle',\n",
              " 'kalıtesınde',\n",
              " 'değil',\n",
              " '8063272502',\n",
              " 'pastı',\n",
              " 'numarası',\n",
              " 'ıle',\n",
              " 'uretılmış',\n",
              " '.sorun',\n",
              " 'bıldıremıyorum',\n",
              " 'acılen',\n",
              " 'bılgı',\n",
              " 'verebılır',\n",
              " 'mısınız',\n",
              " 'nedır',\n",
              " 'problem',\n",
              " '.',\n",
              " 'baldızdan',\n",
              " 'görüp',\n",
              " 'heves',\n",
              " 'etti',\n",
              " 'benim',\n",
              " 'hanım.',\n",
              " 'öyle',\n",
              " 'aldık.',\n",
              " 'hemen',\n",
              " 'birisini',\n",
              " 'iade',\n",
              " 'edelim',\n",
              " 'demeye',\n",
              " 'başladı.',\n",
              " 'bezi',\n",
              " 'takarken',\n",
              " 'bebeğin',\n",
              " 'altını',\n",
              " 'komple',\n",
              " 'çıkarmak',\n",
              " 'gerektiği',\n",
              " 'pek',\n",
              " 'kullanışlı',\n",
              " 'değil.',\n",
              " 'bunu',\n",
              " 'dert',\n",
              " 'etmeyecekseniz',\n",
              " 'tavsiye',\n",
              " 'ederim.',\n",
              " 'çıtçıt',\n",
              " 'yapışkanları',\n",
              " 'yapmamak',\n",
              " 'çıkarılmış',\n",
              " 'bez.',\n",
              " 'böyle',\n",
              " 'üretime',\n",
              " 'anlamış',\n",
              " 'değilim.',\n",
              " 'severek',\n",
              " 'kullanıyoruz.',\n",
              " 'yıldız',\n",
              " 'bebeğinizin',\n",
              " 'temiz',\n",
              " 'kuru',\n",
              " 'cilde',\n",
              " 'sahip',\n",
              " 'olmasını',\n",
              " 'istiyorsanız',\n",
              " 'muhakkak',\n",
              " 'almalısınız',\n",
              " 'sızdırmıyor',\n",
              " 'ederim',\n",
              " 'normal',\n",
              " 'karşılaştırırsanız',\n",
              " 'bariz',\n",
              " 'sızdırma',\n",
              " 'yapıyor',\n",
              " 'bittikten',\n",
              " 'sonra',\n",
              " 'kesinlikle',\n",
              " 'külot',\n",
              " 'almam.',\n",
              " 'verdim',\n",
              " 'ertesi',\n",
              " 'elime',\n",
              " 'ulaştı....hızlı',\n",
              " 'kargo...',\n",
              " 'fiyat...',\n",
              " 'kızım',\n",
              " 'ilk',\n",
              " 'doğduğu',\n",
              " 'zamanlar',\n",
              " 'kullanmıştık.',\n",
              " 'yada',\n",
              " 'tutma',\n",
              " 'pişik',\n",
              " 'yapmama',\n",
              " 'ilgili',\n",
              " 'olarak',\n",
              " 'ürün.',\n",
              " 'biraz',\n",
              " 'pahalı',\n",
              " 'fiyatla',\n",
              " 'satılabilir.',\n",
              " 'premium',\n",
              " 'vare',\n",
              " 'kullanfım',\n",
              " 'gayet',\n",
              " 'yğzden',\n",
              " 'farklı',\n",
              " 'marka',\n",
              " 'artık.',\n",
              " 'bebeğimiz',\n",
              " 'doğduğundan',\n",
              " 'yana',\n",
              " 'kullanıyoruz',\n",
              " 'çıkardığınız',\n",
              " 'kanallardan',\n",
              " 'değiliz.',\n",
              " 'çişi',\n",
              " 'kakası',\n",
              " 'kıyafetlerine',\n",
              " 'çıkıyor',\n",
              " 'bezle',\n",
              " 'beraber',\n",
              " 'kıyafet',\n",
              " 'değiştiriyoruz.',\n",
              " 'yapmalıyız',\n",
              " 'önceki',\n",
              " 'çocoğumuzda',\n",
              " 'kullanmıştık',\n",
              " 'bim',\n",
              " 'deki',\n",
              " 'çocuk',\n",
              " 'pahalıya',\n",
              " 'diyorum',\n",
              " \"prima'nın\",\n",
              " \"care'\",\n",
              " 'si',\n",
              " 'kıyas',\n",
              " 'bile',\n",
              " 'olamazyerli',\n",
              " 'ancakkeşke',\n",
              " 'olsaydı',\n",
              " 'efsane',\n",
              " 'günlerin',\n",
              " 'güzelliğinden',\n",
              " 'faydalandım',\n",
              " 'indrimli',\n",
              " 'müthiş',\n",
              " 'pazar',\n",
              " 'günleri',\n",
              " 'teslimat',\n",
              " 'oldu',\n",
              " 'hepsijet.',\n",
              " 'ediyorum',\n",
              " 'akşam',\n",
              " 'icinde',\n",
              " 'edildi.',\n",
              " 'fiyata',\n",
              " 'h.b',\n",
              " 'firma',\n",
              " 'yolladı',\n",
              " 'hızları',\n",
              " 'sıkıntılı',\n",
              " '14',\n",
              " 'kilo',\n",
              " '6',\n",
              " 'lastikleri',\n",
              " 'belini',\n",
              " 'sıkıyor.başka',\n",
              " 'kullanıyordum',\n",
              " 'onun',\n",
              " 'bel',\n",
              " 'iyiydi.',\n",
              " 'bide',\n",
              " 'bilmeden',\n",
              " 'açtığım',\n",
              " 'mecbur',\n",
              " 'elimde',\n",
              " 'kaldı',\n",
              " 'ürnler.lütfen',\n",
              " 'buna',\n",
              " 'dikkat',\n",
              " 'edip',\n",
              " 'alın',\n",
              " 'harika',\n",
              " 'ben',\n",
              " 'butun',\n",
              " 'bezleri',\n",
              " 'kullandim',\n",
              " 'gercekten',\n",
              " 'pahali',\n",
              " 'geliyor',\n",
              " 'bana',\n",
              " 'cocugum',\n",
              " 'icin',\n",
              " 'kullanmaya',\n",
              " 'devam',\n",
              " 'ediyorum.',\n",
              " 'denir.',\n",
              " 'verdik',\n",
              " 'kapının',\n",
              " 'onundeydi.',\n",
              " 'zaten',\n",
              " 'olarakta',\n",
              " 'ucuzu.',\n",
              " 'super',\n",
              " 'fiyat.',\n",
              " 'kaçırmayın',\n",
              " 'derim',\n",
              " 'bazında',\n",
              " 'olursa',\n",
              " 'herzamanki',\n",
              " 'kalitesi',\n",
              " 'burada',\n",
              " 'zamanla',\n",
              " 'pamukları',\n",
              " 'bezin',\n",
              " 'ortasına',\n",
              " 'yığılmasa',\n",
              " 'olacak.',\n",
              " 'alışveriş',\n",
              " 'paketleme',\n",
              " 'kalitesiz.',\n",
              " 'haftada',\n",
              " 'kargoya',\n",
              " 'verildi.',\n",
              " 'harici',\n",
              " 'kalite.',\n",
              " 'kaliteyi',\n",
              " 'düşürmüş',\n",
              " 'resmen',\n",
              " 'kağıt',\n",
              " 'sabaha',\n",
              " 'kadar',\n",
              " 'sızdırmış',\n",
              " 'oluyo',\n",
              " 'gün.',\n",
              " 'başka',\n",
              " 'bi',\n",
              " 'bezde',\n",
              " 'sıkıntıyı',\n",
              " 'yaşamamıştım.',\n",
              " 'primanın',\n",
              " 'şimdiki',\n",
              " 'ürünlerinin',\n",
              " 'ucuz',\n",
              " 'satılan',\n",
              " 'farkı',\n",
              " 'kalmamış.',\n",
              " 'bebegin',\n",
              " 'üstü',\n",
              " 'çiş',\n",
              " 'oluyor.',\n",
              " 'primayı',\n",
              " 'düşürüp',\n",
              " 'fiyatı',\n",
              " 'yükseltmelerinden',\n",
              " 'dolayı',\n",
              " 'tebrik',\n",
              " 'inşallah',\n",
              " 'tez',\n",
              " 'zamanda',\n",
              " 'yanlıştan',\n",
              " 'dönerler',\n",
              " 'ürettiğiniz',\n",
              " 'beğenmedik',\n",
              " 'ürününüz',\n",
              " 'yapmıyordu',\n",
              " 'üç',\n",
              " 'kanallı',\n",
              " 'olan',\n",
              " 'dışarı',\n",
              " 'emdiği',\n",
              " 'yerlerden',\n",
              " 'üzeri',\n",
              " '36',\n",
              " 'saat',\n",
              " 'geldi.',\n",
              " 'sıkıntısız',\n",
              " 'sorunsuz.',\n",
              " 'konusunda',\n",
              " 'uzun',\n",
              " 'süredir',\n",
              " 'yerli',\n",
              " 'malı',\n",
              " 'olması',\n",
              " 'cabası.',\n",
              " 'yurdun',\n",
              " 'malı.',\n",
              " '1',\n",
              " 'tane',\n",
              " 'bebek',\n",
              " 'alimi',\n",
              " 'yaptim',\n",
              " 'herkese',\n",
              " 'hediye',\n",
              " 'yollanmis',\n",
              " 'gelmedi',\n",
              " 'magzanizdan',\n",
              " 'alışverişim',\n",
              " 'olacaktır',\n",
              " 'sirttan',\n",
              " 'kacirmasa',\n",
              " 'olsun',\n",
              " 'mendilleride',\n",
              " 'ferah',\n",
              " 'temiiz',\n",
              " 'bebeğimin',\n",
              " 'cildi',\n",
              " 'tahriş',\n",
              " 'olmuyor',\n",
              " 'olmuyor.',\n",
              " 'siparişi',\n",
              " 'verdiğim',\n",
              " 'bugün',\n",
              " 'kargoda',\n",
              " 'yazıyordu.',\n",
              " 'kaç',\n",
              " 'demek',\n",
              " 'söylendiği',\n",
              " 'ücretsiz',\n",
              " 'teşekkürler.',\n",
              " 'orjinal',\n",
              " 'erken',\n",
              " 'ulastı',\n",
              " 'kutluyorum',\n",
              " 'dün',\n",
              " 'siparis',\n",
              " 'yalnız',\n",
              " 'fotodaki',\n",
              " 'kolisinde',\n",
              " 'gelse',\n",
              " 'bantlanip',\n",
              " 'acilmamis',\n",
              " 'olirsa',\n",
              " 'olurdum',\n",
              " 'bidahakine',\n",
              " 'ümidiyle',\n",
              " 'diyelim',\n",
              " 'kaçıncı',\n",
              " 'alışım',\n",
              " 'bilmiyorum',\n",
              " 'defada',\n",
              " '4tane',\n",
              " 'eksik',\n",
              " 'tamamını',\n",
              " 'aldığım',\n",
              " 'halde',\n",
              " 'yarısı',\n",
              " 'gönderilmiş.',\n",
              " 'gözden',\n",
              " 'mi',\n",
              " 'kaçtı',\n",
              " 'yoksa',\n",
              " 'bilerek',\n",
              " 'bilinmez...',\n",
              " 'sonrasında',\n",
              " 'ihtiyaç',\n",
              " 'olacağı',\n",
              " 'yapmıyorum.',\n",
              " 'dışında',\n",
              " 'kısa',\n",
              " 'ulaştı',\n",
              " 'paketlenmesi',\n",
              " 'ulaşmadı',\n",
              " 'ulaşması',\n",
              " 'mücadele',\n",
              " 'aras',\n",
              " 'rezalet',\n",
              " 'adresimde',\n",
              " 'kimseye',\n",
              " 'ulaşamadığını',\n",
              " 'söyleyen',\n",
              " 'mesaj',\n",
              " 'attılar',\n",
              " 'numarayı',\n",
              " 'aradım',\n",
              " 'meşgule',\n",
              " 'alıp',\n",
              " 'kapattılar.şubeye',\n",
              " 'ulaşamıyorum.adresimde',\n",
              " 'ulaşamamalarına',\n",
              " 'imkan',\n",
              " 'istediğim',\n",
              " 'yer',\n",
              " 'market',\n",
              " 'zaman',\n",
              " 'açık',\n",
              " 'buraya',\n",
              " 'gelmediler',\n",
              " 'insanları',\n",
              " 'kandırıyorlar.aras',\n",
              " 'kargoyla',\n",
              " 'çalıştığınız',\n",
              " 'sürece',\n",
              " 'sizden',\n",
              " 'almayacağım.',\n",
              " 'sızdırıyor.',\n",
              " 'sabahları',\n",
              " 'uyanıyor.',\n",
              " 'kullanılan',\n",
              " 'malzeme',\n",
              " 'malzemede',\n",
              " 'var.',\n",
              " 'hersey',\n",
              " 'tesekkur',\n",
              " 'hizli',\n",
              " 'urun',\n",
              " 'ırıklığı',\n",
              " 'sabah',\n",
              " 'uyandigimizda',\n",
              " 'ortadan',\n",
              " 'sorunu',\n",
              " 'karsilasiyoruz.',\n",
              " 'markalarinin',\n",
              " 'iyisi',\n",
              " 'taninmasina',\n",
              " 'ragmen',\n",
              " 'bezlerde',\n",
              " 'sorunla',\n",
              " 'karsilasilmamis.',\n",
              " 'primadan',\n",
              " 'baska',\n",
              " 'kullanmadik',\n",
              " 'soruna',\n",
              " 'acil',\n",
              " 'cozum',\n",
              " 'bulunmasini',\n",
              " 'talep',\n",
              " 'para',\n",
              " 'vermemize',\n",
              " 'magduruz..',\n",
              " 'şekilde',\n",
              " 'kargom',\n",
              " 'kazanmak',\n",
              " 'olumlu',\n",
              " 'şeyler',\n",
              " 'yazmış',\n",
              " 'değilim',\n",
              " 'üstüne',\n",
              " 'çıkma',\n",
              " 'yaşıyoruz',\n",
              " 'beden',\n",
              " 'bezinde',\n",
              " 'düzenleme',\n",
              " 'yapılması',\n",
              " 'gerek.',\n",
              " 'islak',\n",
              " 'doğan',\n",
              " 'etkili',\n",
              " 'ürünleriniz',\n",
              " 'rakiplerinizden',\n",
              " 'çokta',\n",
              " 'sleepy',\n",
              " 'kuruluk',\n",
              " 'yaptı',\n",
              " 'oğluma',\n",
              " 'tutuyo',\n",
              " 'kokusudaa',\n",
              " 'guzel',\n",
              " 'kullniyorum',\n",
              " 'tesekkurler',\n",
              " 'primaa',\n",
              " 'fiyattan',\n",
              " 'burada....',\n",
              " 'ürünün',\n",
              " 'üzerinde',\n",
              " 'yazdığı',\n",
              " '718',\n",
              " 'kiloya',\n",
              " 'mümkün',\n",
              " 'oğlum',\n",
              " 'sn',\n",
              " 'hatta',\n",
              " 'şöyle',\n",
              " 'sıkıntı',\n",
              " 'üst',\n",
              " 'kısmı',\n",
              " 'diğerlerine',\n",
              " 'göre',\n",
              " 'dar',\n",
              " 'karnını',\n",
              " 'iyice',\n",
              " 'yanlara',\n",
              " 'kapatmıyor',\n",
              " 'olmasına',\n",
              " 'rağmen',\n",
              " 'yanlardan',\n",
              " 'kalıyor',\n",
              " 'sıkarak',\n",
              " 'sorunun',\n",
              " 'üstesinden',\n",
              " 'gelmeye',\n",
              " 'çalışıyoruz.',\n",
              " 'karşılaştırırsak',\n",
              " 'speepy',\n",
              " 'marka.',\n",
              " 'olmasa',\n",
              " 'verirdim',\n",
              " '18',\n",
              " 'diyen',\n",
              " 'kiloluk',\n",
              " 'oğlumun',\n",
              " 'tamamen',\n",
              " 'kapatamıyorsa',\n",
              " 'kusura',\n",
              " 'bakmasınlar',\n",
              " 'alamazlar.',\n",
              " 'olabilirdi',\n",
              " 'bundan',\n",
              " 'huggies',\n",
              " 'kullandım',\n",
              " 'kalkınca',\n",
              " 'giydirdiğim',\n",
              " 'yatarken',\n",
              " 'değiştirirdim',\n",
              " 'sızdırmaz',\n",
              " 'taşırmazdı.',\n",
              " 'primada',\n",
              " 'öğlen',\n",
              " 'ikindi',\n",
              " 'arası',\n",
              " 'ekstra',\n",
              " 'alt',\n",
              " 'değişimimiz',\n",
              " 'oluyor.değiştiremediğim',\n",
              " 'durumlarda',\n",
              " 'sızma',\n",
              " 'taşma',\n",
              " 'mecburiyetten',\n",
              " 'denemek',\n",
              " 'zorunda',\n",
              " 'kalmadım.',\n",
              " 'ikiz',\n",
              " 'diyince',\n",
              " '44x2',\n",
              " 'anlamıştım',\n",
              " 'değilmiş...',\n",
              " 'haksızsam',\n",
              " 'yıldız.',\n",
              " 'urunde',\n",
              " '49adet',\n",
              " 'yaziyor',\n",
              " 'gelen',\n",
              " '45adet.',\n",
              " 'boylesi',\n",
              " 'gorulmus.',\n",
              " 'devamlı',\n",
              " 'hızlı.',\n",
              " 'kullaniyordum',\n",
              " 'keske',\n",
              " 'kullansaydik',\n",
              " 'sveris',\n",
              " 'yapiyorum',\n",
              " 'sikintisi',\n",
              " 'baya',\n",
              " 'geç',\n",
              " 'ulasiyor',\n",
              " 'bence',\n",
              " 'bunuda',\n",
              " 'aşarlarsa',\n",
              " 'olur',\n",
              " 'üründen',\n",
              " 'aldım.',\n",
              " 'önceden',\n",
              " 'uni',\n",
              " 'baby',\n",
              " 'kullandım.',\n",
              " 'unibaby',\n",
              " 'e',\n",
              " 'uygun.',\n",
              " 'içi',\n",
              " 'adetleri',\n",
              " 'aynı.',\n",
              " 'pamuk',\n",
              " 'olmasada',\n",
              " 'yeterli',\n",
              " 'saf',\n",
              " 'pamuk.',\n",
              " 'yapraklarının',\n",
              " 'boyutları',\n",
              " 'sağlamlığı',\n",
              " 'güzel.',\n",
              " 'dağılmıyor.',\n",
              " 'içindekiler',\n",
              " 'kısmını',\n",
              " 'okuduğumda',\n",
              " 'haricinde',\n",
              " 'sitrik',\n",
              " 'asit',\n",
              " 'kac',\n",
              " 'maddenin',\n",
              " 'farkettim.',\n",
              " 'alırken',\n",
              " 'sadece',\n",
              " 'almıştım.',\n",
              " 'kullanılabilir',\n",
              " 'düşünmüyorum.',\n",
              " 'büyük',\n",
              " 'kızımı',\n",
              " 'care',\n",
              " 'büyüttüm',\n",
              " 'şimdi',\n",
              " 'yaklaşık',\n",
              " 'aydır',\n",
              " 'kullandık',\n",
              " 'hiçbir',\n",
              " 'yoktu.',\n",
              " 'ta',\n",
              " 'seriyi',\n",
              " 'alana',\n",
              " 'kadar.',\n",
              " 'sürekli',\n",
              " 'poposunda',\n",
              " 'yara',\n",
              " 'kızarıklık.',\n",
              " 'ayrılıyor.',\n",
              " 'etmiyorum',\n",
              " 'paranıza',\n",
              " 'bebenizin',\n",
              " 'canına',\n",
              " 'acıyın.',\n",
              " 'urunun',\n",
              " 'kendisinden',\n",
              " 'gonderildi.',\n",
              " '24lu',\n",
              " 'oldugu',\n",
              " 'agir',\n",
              " 'adrese',\n",
              " 'etmedi.',\n",
              " 'gidip',\n",
              " 'almak',\n",
              " 'kaldim.',\n",
              " 'online',\n",
              " 'alisveris',\n",
              " 'anlami',\n",
              " 'kalmadi.',\n",
              " 'zamanında',\n",
              " 'hemde',\n",
              " 'güzeldi.',\n",
              " 'ufakta',\n",
              " 'olsa',\n",
              " 'göndermişler',\n",
              " 'incelikleri',\n",
              " 'içinde',\n",
              " 'tşkler',\n",
              " 'ulaştı.',\n",
              " '70li',\n",
              " 'istedim',\n",
              " 'ancak',\n",
              " '62li',\n",
              " 'lütfen',\n",
              " 'telafisi',\n",
              " 'yapılsın.',\n",
              " 'kargolama.',\n",
              " 'memleketim',\n",
              " 'urfa',\n",
              " 'dan',\n",
              " 'gelmiş',\n",
              " 'görünce',\n",
              " 'şaşırdım',\n",
              " 'belli',\n",
              " 'avantaj',\n",
              " 'sunıyor',\n",
              " 'dezavantajı',\n",
              " 'süresi',\n",
              " '28',\n",
              " 'kasım',\n",
              " 'aralıkta',\n",
              " 'gelene',\n",
              " 'verildiği',\n",
              " 'süresini',\n",
              " 'göz',\n",
              " 'ardı',\n",
              " 'etmeyin..',\n",
              " 'fayda',\n",
              " 'makul.tabi',\n",
              " 'kalite',\n",
              " \"huggies'in\",\n",
              " 'gerisinde.huggies',\n",
              " 'yaprak',\n",
              " 'yaptığınız',\n",
              " 'işi',\n",
              " '23',\n",
              " 'yaprakla',\n",
              " 'yapabiliyorsunuz.hızlı',\n",
              " 'gönderi',\n",
              " 'sitesinde',\n",
              " 'aynı',\n",
              " '10',\n",
              " 'tl',\n",
              " 'fazla.',\n",
              " 'karsilastirmadan',\n",
              " 'almıyorum.',\n",
              " 'şimdiye',\n",
              " 'kullanan',\n",
              " 'begenmedim.sızdırma',\n",
              " 'yaşamadık',\n",
              " 'yapisi',\n",
              " 'sert',\n",
              " 'kıyafette',\n",
              " 'kalıp',\n",
              " 'duruyo',\n",
              " 'sertlikten',\n",
              " 'ayrıca',\n",
              " 'yan',\n",
              " 'bantlar',\n",
              " 'basit',\n",
              " 'yapılmış',\n",
              " 'islaklik',\n",
              " 'göstergesi',\n",
              " 'net',\n",
              " 'deil',\n",
              " 'kısacası',\n",
              " 'eh',\n",
              " 'işte',\n",
              " 'almıştık',\n",
              " 'yumuşacık',\n",
              " 'şirkette',\n",
              " 'iki',\n",
              " 'kutuda',\n",
              " 'ortaya',\n",
              " 'toplanıyor.',\n",
              " 'yaşamayiz',\n",
              " 'fikrimi',\n",
              " 'değiştirmek',\n",
              " 'isterim',\n",
              " 'hesap',\n",
              " 'sayarak',\n",
              " 'aldigimiz',\n",
              " '192',\n",
              " '180',\n",
              " 'geldiesnafligi',\n",
              " 'hakkiyla',\n",
              " 'yapmaniz',\n",
              " 'lazimyaltginiz',\n",
              " 'buyuk',\n",
              " 'ayip3x64',\n",
              " '3x60geldimadem.elinizde',\n",
              " 'ilana',\n",
              " 'veriyisunuz',\n",
              " '0',\n",
              " 'kullanmak',\n",
              " 'nasip',\n",
              " 'olmadığı',\n",
              " 'bilmiyoruz',\n",
              " 'kullandığımız',\n",
              " 'buda',\n",
              " 'iyidir',\n",
              " 'tabikide',\n",
              " 'aktif',\n",
              " '3',\n",
              " 'numaralı',\n",
              " 'parfümlü',\n",
              " 'merak',\n",
              " 'ediyorum...cok',\n",
              " 'ağır',\n",
              " 'var..kakayla',\n",
              " 'birleşince',\n",
              " 'kötü',\n",
              " 'kokuyor...',\n",
              " 'aylık',\n",
              " 'kullandım.fakat',\n",
              " 'poposu',\n",
              " 'oldu.o',\n",
              " 'yüzden',\n",
              " 'istedim.tavsiye',\n",
              " 'uzerine',\n",
              " 'kaldım.sızdırma',\n",
              " 'olmadı.alacak',\n",
              " 'olanlara',\n",
              " 'sayılır',\n",
              " 'hafta',\n",
              " 'sonu',\n",
              " 'düşüyo..molfix',\n",
              " 'tşk',\n",
              " 'surper',\n",
              " 'gec',\n",
              " 'kotü',\n",
              " 'yanı',\n",
              " 'gerisi',\n",
              " 'muhtesem',\n",
              " 'emegi',\n",
              " 'gecen',\n",
              " 'herkeze',\n",
              " 'tsk',\n",
              " '168adet',\n",
              " 'diyor',\n",
              " 'paketler',\n",
              " 'er',\n",
              " 'adetlik',\n",
              " 'koli',\n",
              " 'nedendir',\n",
              " 'korkunç',\n",
              " 'deeterjan',\n",
              " 'kokusuyla',\n",
              " 'karşılaştım',\n",
              " 'paketi',\n",
              " 'açınca',\n",
              " 'boyu',\n",
              " 'terasta',\n",
              " 'bırakmama',\n",
              " 'kokuyor.',\n",
              " 'yapmasından',\n",
              " 'korktum',\n",
              " 'şükür',\n",
              " 'yok.',\n",
              " 'den',\n",
              " 'beklenmeyen',\n",
              " 'koku.',\n",
              " 'herşey',\n",
              " 'dört',\n",
              " 'dörtlük',\n",
              " 'buçuk',\n",
              " 'şuan',\n",
              " 'karar',\n",
              " 'veremedik',\n",
              " 'markayı',\n",
              " 'denedik',\n",
              " 'olmadigim',\n",
              " 'asla',\n",
              " 'kullanmayacağım',\n",
              " 'tabi',\n",
              " 'deneyimlerim',\n",
              " 'icerisinde.',\n",
              " ...]"
            ]
          },
          "metadata": {
            "tags": []
          },
          "execution_count": 51
        }
      ]
    },
    {
      "cell_type": "code",
      "metadata": {
        "id": "SoWudERDhNPr",
        "colab_type": "code",
        "colab": {
          "base_uri": "https://localhost:8080/",
          "height": 294
        },
        "outputId": "48e35615-7dc5-4063-bea1-d9b08df9edad"
      },
      "source": [
        "model.most_similar(\"ürün\")"
      ],
      "execution_count": 57,
      "outputs": [
        {
          "output_type": "stream",
          "text": [
            "/usr/local/lib/python3.6/dist-packages/ipykernel_launcher.py:1: DeprecationWarning: Call to deprecated `most_similar` (Method will be removed in 4.0.0, use self.wv.most_similar() instead).\n",
            "  \"\"\"Entry point for launching an IPython kernel.\n",
            "/usr/local/lib/python3.6/dist-packages/gensim/matutils.py:737: FutureWarning: Conversion of the second argument of issubdtype from `int` to `np.signedinteger` is deprecated. In future, it will be treated as `np.int64 == np.dtype(int).type`.\n",
            "  if np.issubdtype(vec.dtype, np.int):\n"
          ],
          "name": "stderr"
        },
        {
          "output_type": "execute_result",
          "data": {
            "text/plain": [
              "[('gayet', 0.9999841451644897),\n",
              " ('geldi', 0.9999815225601196),\n",
              " ('kaliteli', 0.9999787211418152),\n",
              " ('kargo', 0.9999732971191406),\n",
              " ('ptt', 0.999969482421875),\n",
              " ('elime', 0.9999690055847168),\n",
              " ('güzel', 0.9999687671661377),\n",
              " ('hepsiburada', 0.999967634677887),\n",
              " ('uygun', 0.9999663233757019),\n",
              " ('teşekkürler', 0.9999662637710571)]"
            ]
          },
          "metadata": {
            "tags": []
          },
          "execution_count": 57
        }
      ]
    },
    {
      "cell_type": "code",
      "metadata": {
        "id": "0PbtobsuneWR",
        "colab_type": "code",
        "colab": {
          "base_uri": "https://localhost:8080/",
          "height": 1000
        },
        "outputId": "5386ae14-54db-467c-aead-2cfe36acc3c2"
      },
      "source": [
        "np.average([model[w] for w in X_train[0].split() if w in model.wv.vocab], axis=0)"
      ],
      "execution_count": 49,
      "outputs": [
        {
          "output_type": "stream",
          "text": [
            "/usr/local/lib/python3.6/dist-packages/ipykernel_launcher.py:1: DeprecationWarning: Call to deprecated `__getitem__` (Method will be removed in 4.0.0, use self.wv.__getitem__() instead).\n",
            "  \"\"\"Entry point for launching an IPython kernel.\n"
          ],
          "name": "stderr"
        },
        {
          "output_type": "execute_result",
          "data": {
            "text/plain": [
              "array([ 5.09234727e-04, -2.63399590e-04, -8.07167453e-05, -1.60348689e-04,\n",
              "        1.69916806e-04,  7.07114697e-04,  7.24066058e-06, -8.22991115e-06,\n",
              "        2.98160303e-04,  1.67676873e-04, -2.40619716e-04,  1.79697920e-04,\n",
              "       -2.23439376e-04, -2.63250840e-04,  4.19445481e-04, -4.26930055e-04,\n",
              "        2.97264982e-04,  6.88946966e-05,  9.18267033e-05, -6.09365408e-04,\n",
              "        3.43707652e-04,  4.05677347e-05,  1.07504216e-04,  4.10202301e-05,\n",
              "       -2.11961946e-04, -2.10875689e-04, -3.47328692e-04,  1.63359131e-04,\n",
              "        3.32132040e-05,  6.13648467e-07,  4.28168394e-04,  5.36682666e-04,\n",
              "        3.16499179e-04, -3.86529136e-05,  3.39448452e-04,  3.27782996e-04,\n",
              "        2.77194304e-05,  2.65619106e-04, -1.44307109e-04,  3.96096788e-04,\n",
              "        1.39345910e-04, -1.25423801e-04, -1.96111709e-04,  7.67185993e-04,\n",
              "       -7.02473393e-04,  2.75834551e-04,  3.53441748e-04, -3.79184676e-05,\n",
              "        7.48948834e-04, -2.64402825e-05,  2.83621630e-04, -5.72377816e-04,\n",
              "        4.88302321e-04, -2.47909018e-04, -1.73465422e-04,  3.38508573e-04,\n",
              "        5.33026003e-04, -2.99973850e-04,  1.34894917e-05,  1.78022310e-06,\n",
              "        2.04301250e-04, -3.61805927e-04,  6.23142842e-05, -1.51626737e-04,\n",
              "        1.34938750e-06, -4.79272931e-05,  1.61434989e-04, -3.57718149e-04,\n",
              "       -3.62943501e-05,  2.49472563e-04,  2.01744449e-04,  1.84842167e-04,\n",
              "        5.37952219e-05, -1.26935163e-04, -3.11240758e-04, -1.04477091e-04,\n",
              "        4.99197165e-04, -8.87371498e-05, -4.08858701e-04, -3.39363847e-04,\n",
              "        4.88971244e-04, -1.44812773e-04,  2.72883044e-04, -5.58638363e-04,\n",
              "        1.65469915e-04,  9.18566911e-06, -9.08962829e-05,  1.53812114e-04,\n",
              "        4.77146183e-04,  1.54117166e-04, -1.72459113e-04,  1.67765647e-05,\n",
              "       -7.07999716e-05,  1.65089004e-04,  2.96524968e-06, -3.12651740e-04,\n",
              "        3.69016605e-04, -3.03572830e-04,  3.12291959e-04,  2.76809966e-04,\n",
              "        1.20012533e-04, -3.48885515e-05,  2.75198516e-04, -5.02371870e-04,\n",
              "       -2.08468366e-04, -1.99484784e-04,  6.48699352e-04, -3.60478734e-04,\n",
              "       -1.34283240e-04, -1.25355567e-04,  8.85234913e-05,  1.00356679e-04,\n",
              "        2.83481699e-04,  2.66583782e-04, -1.08249063e-04, -4.72767220e-04,\n",
              "        3.38090438e-04,  8.12539383e-06,  3.41764215e-04,  6.61118305e-04,\n",
              "        2.05374323e-04,  2.16182947e-04,  1.40780467e-04, -4.38928555e-06,\n",
              "        4.96901921e-04, -2.28433259e-04, -2.94904399e-04,  4.32973029e-05,\n",
              "       -9.02944739e-05,  6.12179065e-05, -3.12815682e-04, -1.08782180e-04,\n",
              "       -1.29536711e-04, -2.48061668e-04, -5.09461272e-04, -2.48549361e-04,\n",
              "        9.73190618e-05,  8.69285432e-05,  1.84231772e-04,  5.15473657e-04,\n",
              "        5.84538328e-04, -2.52687052e-04,  2.26376898e-04,  1.72280968e-04,\n",
              "       -2.38222958e-04,  4.54858346e-05, -5.03505755e-04, -2.31902857e-04,\n",
              "       -5.73352620e-04,  3.42575600e-04, -9.90679109e-05,  1.81663054e-04,\n",
              "        4.69682491e-05, -3.60704260e-04,  2.80838518e-04,  3.59846512e-04,\n",
              "        2.06468976e-04,  2.56769301e-04,  3.17401937e-05,  5.47070464e-04,\n",
              "        3.97516822e-04,  2.47025397e-04, -2.46023817e-04,  2.16212429e-04,\n",
              "        6.97086653e-05, -2.24752614e-04,  8.24254676e-05,  2.19181966e-04,\n",
              "        2.67078576e-04,  2.52546568e-04,  2.76263600e-04,  2.57092761e-05,\n",
              "       -1.08579479e-04, -1.96325433e-04,  3.49430047e-04,  2.95681122e-04,\n",
              "       -3.15444631e-04, -1.71959909e-04, -4.47711122e-04,  2.29234021e-04,\n",
              "       -1.85927638e-04,  7.35536014e-05,  5.70233788e-05, -5.05254538e-05,\n",
              "       -9.56234944e-05,  5.48174954e-04,  4.60234995e-04, -7.94064399e-05,\n",
              "       -1.46218692e-04,  2.41718531e-04,  3.30676994e-04, -2.39023662e-04,\n",
              "        1.79667069e-04, -4.24888218e-04,  1.56312890e-04, -2.06397570e-04,\n",
              "       -5.70105563e-04, -3.53394222e-04, -4.06573614e-04,  2.44069292e-04,\n",
              "       -2.15548789e-04,  7.94967200e-05, -4.12912399e-04,  2.94714264e-04,\n",
              "        8.04660740e-05,  2.45084200e-04, -1.79740397e-04,  3.11723386e-04,\n",
              "        1.97266549e-04, -2.45302741e-04, -4.23148216e-04, -3.67739558e-04,\n",
              "        6.41727704e-04,  6.34536205e-04, -2.77613930e-04,  4.33648129e-05,\n",
              "       -8.03529256e-05,  2.61345675e-04,  2.04030148e-04, -3.74518509e-04,\n",
              "       -2.50789046e-04,  2.22842100e-05, -6.96986244e-05, -2.79523258e-04,\n",
              "        1.32315530e-04,  2.07588033e-04, -4.78182919e-04, -1.32353889e-05,\n",
              "       -4.63076954e-04, -4.40116564e-04,  5.31759404e-04,  1.59197982e-04,\n",
              "       -1.44634949e-04, -2.45441654e-04, -1.60948941e-04,  1.01146798e-04,\n",
              "        1.70869258e-04, -1.74115266e-04, -1.24336671e-04, -2.29017642e-05,\n",
              "        2.97220322e-06, -3.43216925e-05, -5.77013590e-04,  1.12476271e-04,\n",
              "        2.00736060e-04, -2.87143572e-04,  3.03218723e-04,  3.76575306e-04,\n",
              "       -6.75394374e-04,  2.68063741e-04,  4.74517874e-04, -1.17768286e-04,\n",
              "       -1.07774567e-05,  7.11143017e-04,  1.24062180e-05,  6.98178075e-04,\n",
              "       -1.90810475e-04, -3.58040379e-05, -3.67078697e-04,  5.32499398e-04,\n",
              "       -1.73515189e-04, -4.05191735e-04, -1.92274892e-04,  2.31090424e-04,\n",
              "       -3.69679037e-04,  1.15914867e-04, -2.53264850e-04, -4.43114986e-04,\n",
              "       -4.36224334e-04,  4.31033550e-06, -1.90612569e-04,  2.51559075e-04,\n",
              "        1.48132764e-04, -7.17348245e-04, -1.33618334e-04,  8.62404704e-06,\n",
              "       -6.27580332e-04, -4.36653238e-04, -2.03773525e-04, -2.85928196e-04,\n",
              "        3.12947559e-05, -8.65160837e-05, -1.64397483e-04,  1.24395418e-04,\n",
              "       -5.17999651e-05,  2.88049865e-04, -2.03521224e-04,  4.09396580e-06,\n",
              "       -2.84045469e-04, -4.05538187e-04, -3.12798336e-04,  2.10180224e-04,\n",
              "       -3.44869550e-05,  3.31200252e-04,  2.32008024e-04, -2.64850998e-04,\n",
              "        2.59199824e-05,  4.79647133e-04, -4.20381621e-05, -5.64338807e-05],\n",
              "      dtype=float32)"
            ]
          },
          "metadata": {
            "tags": []
          },
          "execution_count": 49
        }
      ]
    },
    {
      "cell_type": "code",
      "metadata": {
        "id": "Q9ypH7mMnue7",
        "colab_type": "code",
        "colab": {
          "base_uri": "https://localhost:8080/",
          "height": 331
        },
        "outputId": "ac5a9934-5a11-4e32-9075-30e8786acbac"
      },
      "source": [
        "#analogy for iyi-kötü = hızlı-yavaş\n",
        "model.most_similar(np.array([model[\"iyi\"]-model[\"kötü\"]+model[\"yavaş\"]]))"
      ],
      "execution_count": 61,
      "outputs": [
        {
          "output_type": "stream",
          "text": [
            "/usr/local/lib/python3.6/dist-packages/ipykernel_launcher.py:1: DeprecationWarning: Call to deprecated `__getitem__` (Method will be removed in 4.0.0, use self.wv.__getitem__() instead).\n",
            "  \"\"\"Entry point for launching an IPython kernel.\n",
            "/usr/local/lib/python3.6/dist-packages/ipykernel_launcher.py:1: DeprecationWarning: Call to deprecated `most_similar` (Method will be removed in 4.0.0, use self.wv.most_similar() instead).\n",
            "  \"\"\"Entry point for launching an IPython kernel.\n",
            "/usr/local/lib/python3.6/dist-packages/gensim/matutils.py:737: FutureWarning: Conversion of the second argument of issubdtype from `int` to `np.signedinteger` is deprecated. In future, it will be treated as `np.int64 == np.dtype(int).type`.\n",
            "  if np.issubdtype(vec.dtype, np.int):\n"
          ],
          "name": "stderr"
        },
        {
          "output_type": "execute_result",
          "data": {
            "text/plain": [
              "[('hızlı', 0.9997151494026184),\n",
              " ('uygun', 0.9996981620788574),\n",
              " ('güzel', 0.999687671661377),\n",
              " ('teslimat', 0.9996804594993591),\n",
              " ('kargo', 0.9996774196624756),\n",
              " ('teşekkür', 0.9996749758720398),\n",
              " ('teşekkürler', 0.9996466636657715),\n",
              " ('fiyat', 0.9996416568756104),\n",
              " ('paketleme', 0.999631404876709),\n",
              " ('ederim', 0.9996182918548584)]"
            ]
          },
          "metadata": {
            "tags": []
          },
          "execution_count": 61
        }
      ]
    },
    {
      "cell_type": "code",
      "metadata": {
        "id": "GvTk0YIzpGV-",
        "colab_type": "code",
        "colab": {
          "base_uri": "https://localhost:8080/",
          "height": 331
        },
        "outputId": "e6aaab1e-e070-4bab-b4da-113bd307d7f7"
      },
      "source": [
        "model.most_similar(np.array([model[\"hızlı\"]-model[\"teslimat\"]+model[\"iyi\"]]))"
      ],
      "execution_count": 64,
      "outputs": [
        {
          "output_type": "stream",
          "text": [
            "/usr/local/lib/python3.6/dist-packages/ipykernel_launcher.py:1: DeprecationWarning: Call to deprecated `__getitem__` (Method will be removed in 4.0.0, use self.wv.__getitem__() instead).\n",
            "  \"\"\"Entry point for launching an IPython kernel.\n",
            "/usr/local/lib/python3.6/dist-packages/ipykernel_launcher.py:1: DeprecationWarning: Call to deprecated `most_similar` (Method will be removed in 4.0.0, use self.wv.most_similar() instead).\n",
            "  \"\"\"Entry point for launching an IPython kernel.\n",
            "/usr/local/lib/python3.6/dist-packages/gensim/matutils.py:737: FutureWarning: Conversion of the second argument of issubdtype from `int` to `np.signedinteger` is deprecated. In future, it will be treated as `np.int64 == np.dtype(int).type`.\n",
            "  if np.issubdtype(vec.dtype, np.int):\n"
          ],
          "name": "stderr"
        },
        {
          "output_type": "execute_result",
          "data": {
            "text/plain": [
              "[('gayet', 0.9999761581420898),\n",
              " ('ürün', 0.9999748468399048),\n",
              " ('kaliteli', 0.9999744296073914),\n",
              " ('geldi', 0.9999687671661377),\n",
              " ('hepsiburada', 0.9999686479568481),\n",
              " ('fiyata', 0.999967634677887),\n",
              " ('fiyatı', 0.9999669790267944),\n",
              " ('iyi', 0.9999622106552124),\n",
              " ('geç', 0.9999605417251587),\n",
              " ('ptt', 0.9999601244926453)]"
            ]
          },
          "metadata": {
            "tags": []
          },
          "execution_count": 64
        }
      ]
    },
    {
      "cell_type": "code",
      "metadata": {
        "id": "r0JXV-zWpGTD",
        "colab_type": "code",
        "colab": {}
      },
      "source": [
        "#helper source: https://github.com/ninadakolekar/product-review-sentiment-analysis/blob/master/SentimentAnalysis.ipynb\n",
        "def transformedFeatures(review, w2v_model, embed_size=300):\n",
        "\n",
        "    vocabulary = set(w2v_model.wv.index2word)\n",
        "    feat = np.zeros((embed_size,),dtype=float)\n",
        "\n",
        "    count = 0\n",
        "    flag = True\n",
        "    for word in review:\n",
        "\n",
        "        if word in vocabulary: \n",
        "\n",
        "            count = count + 1.\n",
        "            feat = np.add(feat, w2v_model[word])\n",
        "            flag = False\n",
        "\n",
        "    if flag == False:\n",
        "        feat = np.divide(feat, count)\n",
        "\n",
        "    return feat\n",
        "\n",
        "\n",
        "def transformReviews(reviews, model, embed_size):\n",
        "\n",
        "    num_reviews = len(reviews)\n",
        "    \n",
        "    transformedReviewFeat = np.zeros((num_reviews,embed_size),dtype=float)\n",
        "    for idx, review in enumerate(reviews):\n",
        "        transformedReviewFeat[idx] = transformedFeatures(review, model,embed_size)\n",
        "\n",
        "    return transformedReviewFeat"
      ],
      "execution_count": 0,
      "outputs": []
    },
    {
      "cell_type": "code",
      "metadata": {
        "id": "gzcYHXzDpGQk",
        "colab_type": "code",
        "colab": {
          "base_uri": "https://localhost:8080/",
          "height": 74
        },
        "outputId": "48bccaad-21d1-46a5-fd0c-d7495be44496"
      },
      "source": [
        "train_vectors = transformReviews([x.split() for x in X_train], model, 300)"
      ],
      "execution_count": 74,
      "outputs": [
        {
          "output_type": "stream",
          "text": [
            "/usr/local/lib/python3.6/dist-packages/ipykernel_launcher.py:13: DeprecationWarning: Call to deprecated `__getitem__` (Method will be removed in 4.0.0, use self.wv.__getitem__() instead).\n",
            "  del sys.path[0]\n"
          ],
          "name": "stderr"
        }
      ]
    },
    {
      "cell_type": "code",
      "metadata": {
        "id": "CgHIPZ7LpGOR",
        "colab_type": "code",
        "colab": {
          "base_uri": "https://localhost:8080/",
          "height": 74
        },
        "outputId": "47bef87d-cae9-4034-d77d-2e96619ec9d4"
      },
      "source": [
        "test_vectors = transformReviews([x.split() for x in X_test], model, 300)"
      ],
      "execution_count": 75,
      "outputs": [
        {
          "output_type": "stream",
          "text": [
            "/usr/local/lib/python3.6/dist-packages/ipykernel_launcher.py:13: DeprecationWarning: Call to deprecated `__getitem__` (Method will be removed in 4.0.0, use self.wv.__getitem__() instead).\n",
            "  del sys.path[0]\n"
          ],
          "name": "stderr"
        }
      ]
    },
    {
      "cell_type": "code",
      "metadata": {
        "id": "1jcAa1uIxxGt",
        "colab_type": "code",
        "colab": {
          "base_uri": "https://localhost:8080/",
          "height": 72
        },
        "outputId": "dd34e2d7-2d69-453a-bb79-d98a1d5f0861"
      },
      "source": [
        "#expected shape is (300,) because vector size is determined as 300\n",
        "model[\"ürün\"].shape"
      ],
      "execution_count": 77,
      "outputs": [
        {
          "output_type": "stream",
          "text": [
            "/usr/local/lib/python3.6/dist-packages/ipykernel_launcher.py:1: DeprecationWarning: Call to deprecated `__getitem__` (Method will be removed in 4.0.0, use self.wv.__getitem__() instead).\n",
            "  \"\"\"Entry point for launching an IPython kernel.\n"
          ],
          "name": "stderr"
        },
        {
          "output_type": "execute_result",
          "data": {
            "text/plain": [
              "(300,)"
            ]
          },
          "metadata": {
            "tags": []
          },
          "execution_count": 77
        }
      ]
    },
    {
      "cell_type": "code",
      "metadata": {
        "id": "49FVFVVHpGLT",
        "colab_type": "code",
        "colab": {
          "base_uri": "https://localhost:8080/",
          "height": 72
        },
        "outputId": "7aaaee1c-0d48-423f-eb58-f485bf34effd"
      },
      "source": [
        "#expected shape (16683,300) because 16683 words used and vector size is determined as 300\n",
        "embedding_matrix = np.array(model.wv.syn0)\n",
        "print(\"Shape of embedding matrix : \", embedding_matrix.shape)"
      ],
      "execution_count": 76,
      "outputs": [
        {
          "output_type": "stream",
          "text": [
            "Shape of embedding matrix :  (16683, 300)\n"
          ],
          "name": "stdout"
        },
        {
          "output_type": "stream",
          "text": [
            "/usr/local/lib/python3.6/dist-packages/ipykernel_launcher.py:1: DeprecationWarning: Call to deprecated `syn0` (Attribute will be removed in 4.0.0, use self.wv.vectors instead).\n",
            "  \"\"\"Entry point for launching an IPython kernel.\n"
          ],
          "name": "stderr"
        }
      ]
    },
    {
      "cell_type": "code",
      "metadata": {
        "id": "XoD1iUy6pGGb",
        "colab_type": "code",
        "colab": {
          "base_uri": "https://localhost:8080/",
          "height": 35
        },
        "outputId": "874a68d9-a259-4235-c6f3-9ae6490e83d0"
      },
      "source": [
        "embedding_matrix.shape[0]"
      ],
      "execution_count": 78,
      "outputs": [
        {
          "output_type": "execute_result",
          "data": {
            "text/plain": [
              "16683"
            ]
          },
          "metadata": {
            "tags": []
          },
          "execution_count": 78
        }
      ]
    },
    {
      "cell_type": "code",
      "metadata": {
        "id": "F2e4olDJz2Jn",
        "colab_type": "code",
        "colab": {}
      },
      "source": [
        "from keras.preprocessing.text import Tokenizer\n",
        "from keras.preprocessing import sequence\n",
        "from keras.models import Sequential\n",
        "from keras.layers import Bidirectional, LSTM, Dense, Activation, Embedding\n",
        "from keras.utils import np_utils"
      ],
      "execution_count": 0,
      "outputs": []
    },
    {
      "cell_type": "code",
      "metadata": {
        "id": "o7xDWPF70GHu",
        "colab_type": "code",
        "colab": {
          "base_uri": "https://localhost:8080/",
          "height": 54
        },
        "outputId": "ac9e53ca-5e88-41cf-8357-92d81e73d43c"
      },
      "source": [
        "# Fit tokenizer on training set and then transform training and test reviews\n",
        "\n",
        "tokenizer = Tokenizer(nb_words=embedding_matrix.shape[0])\n",
        "tokenizer.fit_on_texts(X_train)\n",
        "train_seq = tokenizer.texts_to_sequences(X_train)\n",
        "test_seq = tokenizer.texts_to_sequences(X_test)\n",
        "\n",
        "X_train_seq = sequence.pad_sequences(train_seq, maxlen=100)\n",
        "X_test_seq = sequence.pad_sequences(test_seq, maxlen=100)\n",
        "y_train_seq = np_utils.to_categorical(y_train, 4)\n",
        "y_test_seq = np_utils.to_categorical(y_test, 4)"
      ],
      "execution_count": 97,
      "outputs": [
        {
          "output_type": "stream",
          "text": [
            "/usr/local/lib/python3.6/dist-packages/keras_preprocessing/text.py:178: UserWarning: The `nb_words` argument in `Tokenizer` has been renamed `num_words`.\n",
            "  warnings.warn('The `nb_words` argument in `Tokenizer` '\n"
          ],
          "name": "stderr"
        }
      ]
    },
    {
      "cell_type": "code",
      "metadata": {
        "id": "GLw-AJRD0bE8",
        "colab_type": "code",
        "colab": {
          "base_uri": "https://localhost:8080/",
          "height": 348
        },
        "outputId": "9d6e3df0-7ddf-4e55-9ad0-e36dbf2fb012"
      },
      "source": [
        "model2 = Sequential(\n",
        "    [Embedding(embedding_matrix.shape[0],embedding_matrix.shape[1],weights=[embedding_matrix]),\n",
        "    Bidirectional(LSTM(128, dropout_W=0.2, dropout_U=0.2)),\n",
        "    Dense(4),\n",
        "    Activation('softmax')]\n",
        ")\n",
        "\n",
        "model2.summary()"
      ],
      "execution_count": 99,
      "outputs": [
        {
          "output_type": "stream",
          "text": [
            "/usr/local/lib/python3.6/dist-packages/ipykernel_launcher.py:3: UserWarning: Update your `LSTM` call to the Keras 2 API: `LSTM(128, dropout=0.2, recurrent_dropout=0.2)`\n",
            "  This is separate from the ipykernel package so we can avoid doing imports until\n"
          ],
          "name": "stderr"
        },
        {
          "output_type": "stream",
          "text": [
            "Model: \"sequential_2\"\n",
            "_________________________________________________________________\n",
            "Layer (type)                 Output Shape              Param #   \n",
            "=================================================================\n",
            "embedding_2 (Embedding)      (None, None, 300)         5004900   \n",
            "_________________________________________________________________\n",
            "bidirectional_2 (Bidirection (None, 256)               439296    \n",
            "_________________________________________________________________\n",
            "dense_2 (Dense)              (None, 4)                 1028      \n",
            "_________________________________________________________________\n",
            "activation_2 (Activation)    (None, 4)                 0         \n",
            "=================================================================\n",
            "Total params: 5,445,224\n",
            "Trainable params: 5,445,224\n",
            "Non-trainable params: 0\n",
            "_________________________________________________________________\n"
          ],
          "name": "stdout"
        }
      ]
    },
    {
      "cell_type": "code",
      "metadata": {
        "id": "Q-Xfp-Ux1oBD",
        "colab_type": "code",
        "colab": {
          "base_uri": "https://localhost:8080/",
          "height": 202
        },
        "outputId": "d5745330-3a15-433f-a8a3-3aa3f0338864"
      },
      "source": [
        "model2.compile(loss='binary_crossentropy',optimizer='adam',metrics=['accuracy'])\n",
        "model2.fit(X_train_seq, y_train_seq, batch_size=32, epochs=3, verbose=1)"
      ],
      "execution_count": 100,
      "outputs": [
        {
          "output_type": "stream",
          "text": [
            "/usr/local/lib/python3.6/dist-packages/tensorflow/python/framework/indexed_slices.py:434: UserWarning: Converting sparse IndexedSlices to a dense Tensor of unknown shape. This may consume a large amount of memory.\n",
            "  \"Converting sparse IndexedSlices to a dense Tensor of unknown shape. \"\n"
          ],
          "name": "stderr"
        },
        {
          "output_type": "stream",
          "text": [
            "Epoch 1/3\n",
            "12000/12000 [==============================] - 195s 16ms/step - loss: 0.3396 - accuracy: 0.8363\n",
            "Epoch 2/3\n",
            "12000/12000 [==============================] - 194s 16ms/step - loss: 0.1276 - accuracy: 0.9519\n",
            "Epoch 3/3\n",
            "12000/12000 [==============================] - 194s 16ms/step - loss: 0.0632 - accuracy: 0.9784\n"
          ],
          "name": "stdout"
        },
        {
          "output_type": "execute_result",
          "data": {
            "text/plain": [
              "<keras.callbacks.callbacks.History at 0x7fae665169b0>"
            ]
          },
          "metadata": {
            "tags": []
          },
          "execution_count": 100
        }
      ]
    },
    {
      "cell_type": "code",
      "metadata": {
        "id": "_CIfMaSu14G1",
        "colab_type": "code",
        "colab": {
          "base_uri": "https://localhost:8080/",
          "height": 54
        },
        "outputId": "06eca86d-b4ac-4e4c-bc40-b64ec6c8b75b"
      },
      "source": [
        "# Evaluate trained model\n",
        "_, test_accuracy = model2.evaluate(X_test_seq, y_test_seq, batch_size=32)\n",
        "print(f'Test accuracy : {round(test_accuracy,2)}')"
      ],
      "execution_count": 102,
      "outputs": [
        {
          "output_type": "stream",
          "text": [
            "3000/3000 [==============================] - 10s 3ms/step\n",
            "Test accuracy : 0.94\n"
          ],
          "name": "stdout"
        }
      ]
    },
    {
      "cell_type": "code",
      "metadata": {
        "id": "UPIFr0VB3m3M",
        "colab_type": "code",
        "colab": {}
      },
      "source": [
        "# Save model architecture by serializing to JSON\n",
        "json_model = model2.to_json()\n",
        "with open(\"model2.json\", \"w\") as json_file:\n",
        "    json_file.write(json_model)\n",
        "\n",
        "# Save model weights by serializing to HDF5\n",
        "model2.save_weights(\"model2.h5\")"
      ],
      "execution_count": 0,
      "outputs": []
    },
    {
      "cell_type": "code",
      "metadata": {
        "id": "DAMRxT526iux",
        "colab_type": "code",
        "colab": {}
      },
      "source": [
        "def test2(reviews):\n",
        "  review_seq = tokenizer.texts_to_sequences(reviews)\n",
        "  review_seq = sequence.pad_sequences(review_seq, maxlen=100)\n",
        "\n",
        "  proba = model2.predict_proba(review_seq)\n",
        "\n",
        "  sentiments = []\n",
        "  for x in proba.tolist():\n",
        "    class_idx = np.argmax(x)\n",
        "    if class_idx==1:\n",
        "      sentiment=\"Negative\"\n",
        "    elif class_idx==3:\n",
        "      sentiment=\"Positive\"\n",
        "    elif class_idx==2:\n",
        "      sentiment=\"Agnostic\"\n",
        "    class_proba = x[class_idx]\n",
        "    sentiments.append((sentiment,class_proba))\n",
        "\n",
        "  return sentiments"
      ],
      "execution_count": 0,
      "outputs": []
    },
    {
      "cell_type": "code",
      "metadata": {
        "id": "gOHIK5L66kWk",
        "colab_type": "code",
        "colab": {}
      },
      "source": [
        "  reviews = [\"ürün çok sızdırıyor. berbat\",\n",
        "           \"harika. tavsiye ederim\",\n",
        "           \"kesinlikle tavsiye etmiyorum\",\n",
        "           \"kullanışlı değil.\",\n",
        "           \"çocuğumu pişik yaptı\",\n",
        "           \"satıcı ilgisiz\",\n",
        "           \"başka yerden alın buradan almayın\",\n",
        "           \"eksik ve yanlış teslimat\",\n",
        "           \"teşekkürler\",\n",
        "           \"hızlı kargo\",\n",
        "           \"hiç yumuşak değil\",\n",
        "           \"iyi\",\n",
        "           \"kullanışlı\",\n",
        "           \"satıcı çok ilgili\",\n",
        "           \"bir daha asla almam çok kötü\",\n",
        "           \"tavsiye etmiyorum\",\n",
        "           \"çok kötü kokuyor\",\n",
        "           \"süper ürün\",\n",
        "           \"lastikleri ortalama kalitede\", \"muhteşem\", \"harikulade\"]"
      ],
      "execution_count": 0,
      "outputs": []
    },
    {
      "cell_type": "code",
      "metadata": {
        "id": "0GejgUq96kdm",
        "colab_type": "code",
        "colab": {
          "base_uri": "https://localhost:8080/",
          "height": 403
        },
        "outputId": "cb719a0d-885d-44ba-e904-cda340fc45f0"
      },
      "source": [
        "for i in range(len(reviews)):\n",
        "  print(reviews[i],test2(reviews)[i])"
      ],
      "execution_count": 116,
      "outputs": [
        {
          "output_type": "stream",
          "text": [
            "ürün çok sızdırıyor. berbat ('Negative', 0.9641702175140381)\n",
            "harika. tavsiye ederim ('Positive', 0.8762253522872925)\n",
            "kesinlikle tavsiye etmiyorum ('Negative', 0.9460793137550354)\n",
            "kullanışlı değil. ('Agnostic', 0.4900384843349457)\n",
            "çocuğumu pişik yaptı ('Negative', 0.9368640780448914)\n",
            "satıcı ilgisiz ('Agnostic', 0.9198565483093262)\n",
            "başka yerden alın buradan almayın ('Negative', 0.9829283952713013)\n",
            "eksik ve yanlış teslimat ('Negative', 0.906998336315155)\n",
            "teşekkürler ('Positive', 0.8548956513404846)\n",
            "hızlı kargo ('Positive', 0.7566068172454834)\n",
            "hiç yumuşak değil ('Negative', 0.5716693997383118)\n",
            "iyi ('Positive', 0.7326992750167847)\n",
            "kullanışlı ('Positive', 0.5028775334358215)\n",
            "satıcı çok ilgili ('Positive', 0.5132745504379272)\n",
            "bir daha asla almam çok kötü ('Negative', 0.9560171961784363)\n",
            "tavsiye etmiyorum ('Negative', 0.9360243678092957)\n",
            "çok kötü kokuyor ('Negative', 0.49065542221069336)\n",
            "süper ürün ('Positive', 0.7800518870353699)\n",
            "lastikleri ortalama kalitede ('Negative', 0.874934732913971)\n",
            "muhteşem ('Positive', 0.9639866352081299)\n",
            "harikulade ('Positive', 0.698555588722229)\n"
          ],
          "name": "stdout"
        }
      ]
    },
    {
      "cell_type": "markdown",
      "metadata": {
        "id": "o4Cbx43GJ4gN",
        "colab_type": "text"
      },
      "source": [
        "When all methods compared we see that word2vec+lstm approach is clearly the winner with 0.94 accuracy."
      ]
    },
    {
      "cell_type": "code",
      "metadata": {
        "id": "saQcYnIw6kbj",
        "colab_type": "code",
        "colab": {}
      },
      "source": [
        ""
      ],
      "execution_count": 0,
      "outputs": []
    },
    {
      "cell_type": "code",
      "metadata": {
        "id": "x_-R8KU06kT1",
        "colab_type": "code",
        "colab": {}
      },
      "source": [
        ""
      ],
      "execution_count": 0,
      "outputs": []
    }
  ]
}